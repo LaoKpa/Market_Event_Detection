{
 "cells": [
  {
   "cell_type": "code",
   "execution_count": 1,
   "metadata": {
    "collapsed": true
   },
   "outputs": [],
   "source": [
    "import numpy as np\n",
    "import pandas as pd\n",
    "from datetime import datetime, timedelta\n",
    "import os"
   ]
  },
  {
   "cell_type": "code",
   "execution_count": 2,
   "metadata": {},
   "outputs": [],
   "source": [
    "working_dir = os.getcwd()"
   ]
  },
  {
   "cell_type": "code",
   "execution_count": 3,
   "metadata": {},
   "outputs": [],
   "source": [
    "def get_one_contract_data_by_date(date_str, contract_pd):\n",
    "    \"\"\"Get the contract minute data by the date\n",
    "    Trading hours:\n",
    "        Sunday – Friday, 7:00 p.m. – 7:45 a.m. CT and \n",
    "        Monday – Friday, 8:30 a.m. – 1:20 p.m. CT\n",
    "    Define the last day's night-time and today's day-time as today's trading hours\n",
    "    \n",
    "    Args:\n",
    "        date_str: str, the date we want to extract the main contract data, e.g. \"2016-01-04\"\n",
    "        contract_path: str, the main contract path, e.g. \"../data/ZC/ZCH16.csv\"\n",
    "        \n",
    "    Returns:\n",
    "        pandas.DataFrame\n",
    "    \n",
    "    \"\"\"\n",
    "    year, month, day = map(int, date_str.split('-'))\n",
    "    last_date_str = (datetime(year, month, day) - timedelta(days=1)).strftime(\"%Y-%m-%d\")\n",
    "    \n",
    "    # all_data = pd.read_csv(contract_path, header=0, index_col=0, parse_dates=[0])\n",
    "    all_data = contract_pd\n",
    "    all_data['Volume'] = all_data.TotalVolume.diff()\n",
    "    \n",
    "    last_day_data = all_data.loc[last_date_str].between_time(\"19:00\", \"23:59\")\n",
    "    today_data = all_data.loc[date_str].between_time(\"0:00\", \"13:20\")\n",
    "    \n",
    "    data = last_day_data.append(today_data, ignore_index=False)\n",
    "    data.iloc[0, 5] = data.iloc[0, 4] #The first minute's trading volume \n",
    "    return data\n"
   ]
  },
  {
   "cell_type": "code",
   "execution_count": 4,
   "metadata": {},
   "outputs": [],
   "source": [
    "def extract_data_from_unique_contract(contract_path, unique_dates):\n",
    "    contract_pd = pd.read_csv(contract_path, header=0, index_col=0, parse_dates=[0])\n",
    "    data = pd.DataFrame(columns=[\"Open\", \"High\", \"Low\", \"Close\", \"TotalVolume\", \"Volume\"])\n",
    "    for single_date in unique_dates:\n",
    "        dd = get_one_contract_data_by_date(single_date, contract_pd)\n",
    "        data = data.append(dd, ignore_index=False)\n",
    "    return data"
   ]
  },
  {
   "cell_type": "code",
   "execution_count": 5,
   "metadata": {},
   "outputs": [],
   "source": [
    "def get_all_main_contract_data(main_contracts_path = working_dir+\"/data/ZC/front.csv\", contracts_root_path = working_dir+\"/data/ZC/\"):\n",
    "    \"\"\"Combine the daily main contract data \n",
    "    Args:\n",
    "        main_contracts_path: str, the path that have the daily main contract code\n",
    "        contracts_root_path: str, the root path that have all the contract data\n",
    "        \n",
    "    Returns:\n",
    "        data, pd.DataFrame,columns=[\"Open\", \"High\", \"Low\", \"Close\", \"TotalVolume\", \"Volume\", \"Change\"], \n",
    "                            where \"Change\" == 1 indicate that the main contract changed that day\n",
    "    \n",
    "    \"\"\"\n",
    "    func_contract_to_path = lambda x: contracts_root_path + \"ZC\" + x + \".csv\"\n",
    "    \n",
    "    main_contracts = pd.read_csv(main_contracts_path, header=None, names=['date_str', 'main_contract'])\n",
    "    unique_contracts = main_contracts.main_contract.unique()\n",
    "    \n",
    "    data = pd.DataFrame(columns=[\"Open\", \"High\", \"Low\", \"Close\", \"TotalVolume\", \"Volume\"])\n",
    "    for single_contract in unique_contracts:\n",
    "        contract_path = func_contract_to_path(single_contract)\n",
    "        unique_dates = main_contracts.loc[main_contracts[\"main_contract\"] == single_contract].date_str.unique()\n",
    "        today_data = extract_data_from_unique_contract(contract_path, unique_dates)\n",
    "        data = data.append(today_data, ignore_index=False)\n",
    "        \n",
    "    return data"
   ]
  },
  {
   "cell_type": "code",
   "execution_count": 6,
   "metadata": {
    "collapsed": false
   },
   "outputs": [
    {
     "name": "stdout",
     "output_type": "stream",
     "text": [
      "CPU times: user 8.46 s, sys: 1.06 s, total: 9.51 s\nWall time: 9.52 s\n"
     ]
    }
   ],
   "source": [
    "%time all_data = get_all_main_contract_data()"
   ]
  },
  {
   "cell_type": "code",
   "execution_count": 7,
   "metadata": {},
   "outputs": [],
   "source": [
    "all_data.to_csv(working_dir+\"/data/combined_data.csv\")"
   ]
  },
  {
   "cell_type": "code",
   "execution_count": 8,
   "metadata": {},
   "outputs": [
    {
     "data": {
      "text/plain": [
       "535536"
      ]
     },
     "execution_count": 8,
     "metadata": {},
     "output_type": "execute_result"
    }
   ],
   "source": [
    "len(all_data)"
   ]
  },
  {
   "cell_type": "code",
   "execution_count": null,
   "metadata": {},
   "outputs": [],
   "source": []
  }
 ],
 "metadata": {
  "kernelspec": {
   "display_name": "Python 2",
   "language": "python",
   "name": "python2"
  },
  "language_info": {
   "codemirror_mode": {
    "name": "ipython",
    "version": 2
   },
   "file_extension": ".py",
   "mimetype": "text/x-python",
   "name": "python",
   "nbconvert_exporter": "python",
   "pygments_lexer": "ipython2",
   "version": "2.7.6"
  }
 },
 "nbformat": 4,
 "nbformat_minor": 0
}
