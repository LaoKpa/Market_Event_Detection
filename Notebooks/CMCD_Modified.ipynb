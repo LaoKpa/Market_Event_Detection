{
 "cells": [
  {
   "cell_type": "code",
   "execution_count": 1,
   "metadata": {},
   "outputs": [],
   "source": [
    "import numpy as np\n",
    "import pandas as pd\n",
    "from datetime import datetime, timedelta\n",
    "import os"
   ]
  },
  {
   "cell_type": "code",
   "execution_count": 2,
   "metadata": {},
   "outputs": [],
   "source": [
    "working_dir = os.getcwd()"
   ]
  },
  {
   "cell_type": "code",
   "execution_count": 3,
   "metadata": {
    "code_folding": [
     0
    ]
   },
   "outputs": [],
   "source": [
    "def get_one_contract_data_by_date(date_str, contract_pd):\n",
    "    \"\"\"Get the contract minute data by the date\n",
    "    Trading hours:\n",
    "        Sunday – Friday, 7:00 p.m. – 7:45 a.m. CT and \n",
    "        Monday – Friday, 8:30 a.m. – 1:20 p.m. CT\n",
    "    Define the last day's night-time and today's day-time as today's trading hours\n",
    "    \n",
    "    Args:\n",
    "        date_str: str, the date we want to extract the main contract data, e.g. \"2016-01-04\"\n",
    "        contract_path: str, the main contract path, e.g. \"../data/ZC/ZCH16.csv\"\n",
    "        \n",
    "    Returns:\n",
    "        pandas.DataFrame\n",
    "    \n",
    "    \"\"\"\n",
    "    year, month, day = map(int, date_str.split('-'))\n",
    "    last_date_str = (datetime(year, month, day) - timedelta(days=1)).strftime(\"%Y-%m-%d\")\n",
    "    \n",
    "    # all_data = pd.read_csv(contract_path, header=0, index_col=0, parse_dates=[0])\n",
    "    all_data = contract_pd\n",
    "    all_data['Volume'] = all_data.TotalVolume.diff()\n",
    "    \n",
    "    last_day_data = all_data.loc[last_date_str].between_time(\"19:00\", \"23:59\")\n",
    "    today_data = all_data.loc[date_str].between_time(\"0:00\", \"13:20\")\n",
    "    \n",
    "    data = last_day_data.append(today_data, ignore_index=False)\n",
    "    data.iloc[0, 5] = data.iloc[0, 4] #The first minute's trading volume \n",
    "    return data\n"
   ]
  },
  {
   "cell_type": "code",
   "execution_count": 4,
   "metadata": {
    "code_folding": [
     0
    ]
   },
   "outputs": [],
   "source": [
    "def extract_data_from_unique_contract(contract_path, unique_dates):\n",
    "    contract_pd = pd.read_csv(contract_path, header=0, index_col=0, parse_dates=[0])\n",
    "    data = pd.DataFrame(columns=[\"Open\", \"High\", \"Low\", \"Close\", \"TotalVolume\", \"Volume\"])\n",
    "    for single_date in unique_dates:\n",
    "        dd = get_one_contract_data_by_date(single_date, contract_pd)\n",
    "        data = data.append(dd, ignore_index=False)\n",
    "    return data"
   ]
  },
  {
   "cell_type": "code",
   "execution_count": 5,
   "metadata": {
    "code_folding": []
   },
   "outputs": [],
   "source": [
    "def get_all_main_contract_data(main_contracts_path = working_dir+\"/data/ZC/front.csv\", contracts_root_path = working_dir+\"/data/ZC/\"):\n",
    "    \"\"\"Combine the daily main contract data \n",
    "    Args:\n",
    "        main_contracts_path: str, the path that have the daily main contract code\n",
    "        contracts_root_path: str, the root path that have all the contract data\n",
    "        \n",
    "    Returns:\n",
    "        data, pd.DataFrame,columns=[\"Open\", \"High\", \"Low\", \"Close\", \"TotalVolume\", \"Volume\", \"Change\"], \n",
    "                            where \"Change\" == 1 indicate that the main contract changed that day\n",
    "    \n",
    "    \"\"\"\n",
    "    func_contract_to_path = lambda x: contracts_root_path + \"ZC\" + x + \".csv\"\n",
    "    \n",
    "    main_contracts = pd.read_csv(main_contracts_path, header=None, names=['date_str', 'main_contract'])\n",
    "    unique_contracts = main_contracts.main_contract.unique()\n",
    "    \n",
    "    data = pd.DataFrame(columns=[\"Open\", \"High\", \"Low\", \"Close\", \"TotalVolume\", \"Volume\"])\n",
    "    for single_contract in unique_contracts:\n",
    "        contract_path = func_contract_to_path(single_contract)\n",
    "        unique_dates = main_contracts.loc[main_contracts[\"main_contract\"] == single_contract].date_str.unique()\n",
    "        today_data = extract_data_from_unique_contract(contract_path, unique_dates)\n",
    "        data = data.append(today_data, ignore_index=False)\n",
    "        \n",
    "    return data"
   ]
  },
  {
   "cell_type": "code",
   "execution_count": 7,
   "metadata": {},
   "outputs": [
    {
     "name": "stdout",
     "output_type": "stream",
     "text": [
      "Wall time: 13.7 s\n"
     ]
    }
   ],
   "source": [
    "%time all_data = get_all_main_contract_data()"
   ]
  },
  {
   "cell_type": "code",
   "execution_count": 8,
   "metadata": {},
   "outputs": [],
   "source": [
    "all_data.to_csv(working_dir+\"/data/combined_data.csv\")"
   ]
  },
  {
   "cell_type": "code",
   "execution_count": 9,
   "metadata": {},
   "outputs": [
    {
     "data": {
      "text/plain": [
       "535536"
      ]
     },
     "execution_count": 9,
     "metadata": {},
     "output_type": "execute_result"
    }
   ],
   "source": [
    "len(all_data)"
   ]
  },
  {
   "cell_type": "code",
   "execution_count": 10,
   "metadata": {},
   "outputs": [
    {
     "name": "stderr",
     "output_type": "stream",
     "text": [
      "C:\\Users\\renhao\\Anaconda3\\lib\\site-packages\\ipykernel_launcher.py:3: FutureWarning: Currently, 'apply' passes the values as ndarrays to the applied function. In the future, this will change to passing it as Series objects. You need to specify 'raw=True' to keep the current behaviour, and you can pass 'raw=False' to silence this warning\n",
      "  This is separate from the ipykernel package so we can avoid doing imports until\n"
     ]
    },
    {
     "data": {
      "text/html": [
       "<div>\n",
       "<style scoped>\n",
       "    .dataframe tbody tr th:only-of-type {\n",
       "        vertical-align: middle;\n",
       "    }\n",
       "\n",
       "    .dataframe tbody tr th {\n",
       "        vertical-align: top;\n",
       "    }\n",
       "\n",
       "    .dataframe thead th {\n",
       "        text-align: right;\n",
       "    }\n",
       "</style>\n",
       "<table border=\"1\" class=\"dataframe\">\n",
       "  <thead>\n",
       "    <tr style=\"text-align: right;\">\n",
       "      <th></th>\n",
       "      <th>date_str</th>\n",
       "      <th>main_contract</th>\n",
       "    </tr>\n",
       "  </thead>\n",
       "  <tbody>\n",
       "    <tr>\n",
       "      <th>0</th>\n",
       "      <td>2016-01-04</td>\n",
       "      <td>H16</td>\n",
       "    </tr>\n",
       "    <tr>\n",
       "      <th>1</th>\n",
       "      <td>2016-02-24</td>\n",
       "      <td>K16</td>\n",
       "    </tr>\n",
       "    <tr>\n",
       "      <th>2</th>\n",
       "      <td>2016-04-20</td>\n",
       "      <td>N16</td>\n",
       "    </tr>\n",
       "    <tr>\n",
       "      <th>3</th>\n",
       "      <td>2016-06-29</td>\n",
       "      <td>U16</td>\n",
       "    </tr>\n",
       "    <tr>\n",
       "      <th>4</th>\n",
       "      <td>2016-08-17</td>\n",
       "      <td>Z16</td>\n",
       "    </tr>\n",
       "    <tr>\n",
       "      <th>5</th>\n",
       "      <td>2016-11-29</td>\n",
       "      <td>H17</td>\n",
       "    </tr>\n",
       "    <tr>\n",
       "      <th>6</th>\n",
       "      <td>2017-02-27</td>\n",
       "      <td>K17</td>\n",
       "    </tr>\n",
       "    <tr>\n",
       "      <th>7</th>\n",
       "      <td>2017-04-20</td>\n",
       "      <td>N17</td>\n",
       "    </tr>\n",
       "    <tr>\n",
       "      <th>8</th>\n",
       "      <td>2017-06-28</td>\n",
       "      <td>U17</td>\n",
       "    </tr>\n",
       "    <tr>\n",
       "      <th>9</th>\n",
       "      <td>2017-08-17</td>\n",
       "      <td>Z17</td>\n",
       "    </tr>\n",
       "    <tr>\n",
       "      <th>10</th>\n",
       "      <td>2017-11-28</td>\n",
       "      <td>H18</td>\n",
       "    </tr>\n",
       "    <tr>\n",
       "      <th>11</th>\n",
       "      <td>2018-02-27</td>\n",
       "      <td>K18</td>\n",
       "    </tr>\n",
       "    <tr>\n",
       "      <th>12</th>\n",
       "      <td>2018-04-20</td>\n",
       "      <td>N18</td>\n",
       "    </tr>\n",
       "    <tr>\n",
       "      <th>13</th>\n",
       "      <td>2018-06-29</td>\n",
       "      <td>U18</td>\n",
       "    </tr>\n",
       "    <tr>\n",
       "      <th>14</th>\n",
       "      <td>2018-08-17</td>\n",
       "      <td>Z18</td>\n",
       "    </tr>\n",
       "    <tr>\n",
       "      <th>15</th>\n",
       "      <td>2018-08-20</td>\n",
       "      <td>H19</td>\n",
       "    </tr>\n",
       "  </tbody>\n",
       "</table>\n",
       "</div>"
      ],
      "text/plain": [
       "      date_str main_contract\n",
       "0   2016-01-04           H16\n",
       "1   2016-02-24           K16\n",
       "2   2016-04-20           N16\n",
       "3   2016-06-29           U16\n",
       "4   2016-08-17           Z16\n",
       "5   2016-11-29           H17\n",
       "6   2017-02-27           K17\n",
       "7   2017-04-20           N17\n",
       "8   2017-06-28           U17\n",
       "9   2017-08-17           Z17\n",
       "10  2017-11-28           H18\n",
       "11  2018-02-27           K18\n",
       "12  2018-04-20           N18\n",
       "13  2018-06-29           U18\n",
       "14  2018-08-17           Z18\n",
       "15  2018-08-20           H19"
      ]
     },
     "execution_count": 10,
     "metadata": {},
     "output_type": "execute_result"
    }
   ],
   "source": [
    "# Get the main contracts changing date\n",
    "main_contracts = pd.read_csv(working_dir+\"/data/ZC/front.csv\", header=None, names=['date_str', 'main_contract'])\n",
    "main_contracts['Change'] = main_contracts.main_contract.apply(lambda x: hash(x)).rolling(2).apply(lambda x: 1 if x[1] != x[0] else 0).fillna(1)\n",
    "change_dates = main_contracts[main_contracts['Change'] == 1][['date_str', 'main_contract']].reset_index(drop=True)\n",
    "change_dates\n"
   ]
  },
  {
   "cell_type": "code",
   "execution_count": 12,
   "metadata": {},
   "outputs": [],
   "source": [
    "change_dates.to_csv(working_dir+\"/data/main_contract_change_dates.csv\", index=False)"
   ]
  }
 ],
 "metadata": {
  "kernelspec": {
   "display_name": "Python 3",
   "language": "python",
   "name": "python3"
  },
  "language_info": {
   "codemirror_mode": {
    "name": "ipython",
    "version": 3
   },
   "file_extension": ".py",
   "mimetype": "text/x-python",
   "name": "python",
   "nbconvert_exporter": "python",
   "pygments_lexer": "ipython3",
   "version": "3.7.0"
  }
 },
 "nbformat": 4,
 "nbformat_minor": 1
}
