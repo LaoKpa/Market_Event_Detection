{
 "cells": [
  {
   "cell_type": "code",
   "execution_count": 2,
   "metadata": {},
   "outputs": [],
   "source": [
    "import numpy as np\n",
    "import pandas as pd\n",
    "from datetime import datetime, timedelta\n",
    "import os"
   ]
  },
  {
   "cell_type": "code",
   "execution_count": 3,
   "metadata": {},
   "outputs": [],
   "source": [
    "working_dir = os.getcwd()"
   ]
  },
  {
   "cell_type": "code",
   "execution_count": 42,
   "metadata": {
    "code_folding": [
     0.0
    ]
   },
   "outputs": [],
   "source": [
    "def get_one_contract_data_by_date(date_str, contract_pd):\n",
    "    \"\"\"Get the contract minute data by the date\n",
    "    Trading hours:\n",
    "        Sunday – Friday, 7:00 p.m. – 7:45 a.m. CT and \n",
    "        Monday – Friday, 8:30 a.m. – 1:20 p.m. CT\n",
    "    Define the last day's night-time and today's day-time as today's trading hours\n",
    "    \n",
    "    Args:\n",
    "        date_str: str, the date we want to extract the main contract data, e.g. \"2016-01-04\"\n",
    "        contract_path: str, the main contract path, e.g. \"../data/ZC/ZCH16.csv\"\n",
    "        \n",
    "    Returns:\n",
    "        pandas.DataFrame\n",
    "    \n",
    "    \"\"\"\n",
    "    year, month, day = map(int, date_str.split('-'))\n",
    "    last_date_str = (datetime(year, month, day) - timedelta(days=1)).strftime(\"%Y-%m-%d\")\n",
    "    \n",
    "    # all_data = pd.read_csv(contract_path, header=0, index_col=0, parse_dates=[0])\n",
    "    all_data = contract_pd\n",
    "    all_data['Volume'] = all_data.TotalVolume.diff()\n",
    "    \n",
    "    last_day_data = all_data.loc[last_date_str].between_time(\"19:01\", \"23:59\")\n",
    "    today_data_night = all_data.loc[date_str].between_time(\"0:00\", \"7:45\")\n",
    "    today_data_morning = all_data.loc[date_str].between_time(\"8:31\", \"13:20\")\n",
    "    \n",
    "    data = last_day_data.append(today_data_night, ignore_index=False)\n",
    "    data = data.append(today_data_morning, ignore_index=False)\n",
    "    data.iloc[0, 5] = data.iloc[0, 4] #The first minute's trading volume \n",
    "    return data\n"
   ]
  },
  {
   "cell_type": "code",
   "execution_count": 39,
   "metadata": {
    "code_folding": [
     0.0
    ]
   },
   "outputs": [],
   "source": [
    "def extract_data_from_unique_contract(contract_path, unique_dates):\n",
    "    contract_pd = pd.read_csv(contract_path, header=0, index_col=0, parse_dates=[0])\n",
    "    contract_pd = contract_pd.resample(\"1Min\")\n",
    "    contract_pd = contract_pd.fillna(method='ffill')\n",
    "    data = pd.DataFrame(columns=[\"Open\", \"High\", \"Low\", \"Close\", \"TotalVolume\", \"Volume\"])\n",
    "    for single_date in unique_dates:\n",
    "        dd = get_one_contract_data_by_date(single_date, contract_pd)\n",
    "        data = data.append(dd, ignore_index=False)\n",
    "    return data"
   ]
  },
  {
   "cell_type": "code",
   "execution_count": 22,
   "metadata": {
    "code_folding": []
   },
   "outputs": [],
   "source": [
    "def get_all_main_contract_data(main_contracts_path = working_dir+\"/data/ZC/front.csv\", contracts_root_path = working_dir+\"/data/ZC/\"):\n",
    "    \"\"\"Combine the daily main contract data \n",
    "    Args:\n",
    "        main_contracts_path: str, the path that have the daily main contract code\n",
    "        contracts_root_path: str, the root path that have all the contract data\n",
    "        \n",
    "    Returns:\n",
    "        data, pd.DataFrame,columns=[\"Open\", \"High\", \"Low\", \"Close\", \"TotalVolume\", \"Volume\", \"Change\"], \n",
    "                            where \"Change\" == 1 indicate that the main contract changed that day\n",
    "    \n",
    "    \"\"\"\n",
    "    func_contract_to_path = lambda x: contracts_root_path + \"ZC\" + x + \".csv\"\n",
    "    \n",
    "    main_contracts = pd.read_csv(main_contracts_path, header=None, names=['date_str', 'main_contract'])\n",
    "    unique_contracts = main_contracts.main_contract.unique()\n",
    "    \n",
    "    data = pd.DataFrame(columns=[\"Open\", \"High\", \"Low\", \"Close\", \"TotalVolume\", \"Volume\"])\n",
    "    for single_contract in unique_contracts:\n",
    "        contract_path = func_contract_to_path(single_contract)\n",
    "        unique_dates = main_contracts.loc[main_contracts[\"main_contract\"] == single_contract].date_str.unique()\n",
    "        today_data = extract_data_from_unique_contract(contract_path, unique_dates)\n",
    "        data = data.append(today_data, ignore_index=False)\n",
    "        \n",
    "    return data"
   ]
  },
  {
   "cell_type": "code",
   "execution_count": 43,
   "metadata": {},
   "outputs": [
    {
     "name": "stdout",
     "output_type": "stream",
     "text": [
      "CPU times: user 14.2 s, sys: 2.31 s, total: 16.5 s\nWall time: 16.5 s\n"
     ]
    }
   ],
   "source": [
    "%time all_data = get_all_main_contract_data()"
   ]
  },
  {
   "cell_type": "code",
   "execution_count": 44,
   "metadata": {},
   "outputs": [],
   "source": [
    "all_data.to_csv(working_dir+\"/data/combined_data.csv\")"
   ]
  },
  {
   "cell_type": "code",
   "execution_count": 24,
   "metadata": {},
   "outputs": [
    {
     "data": {
      "text/plain": [
       "849200"
      ]
     },
     "execution_count": 24,
     "metadata": {},
     "output_type": "execute_result"
    }
   ],
   "source": [
    "len(all_data)"
   ]
  },
  {
   "cell_type": "code",
   "execution_count": 10,
   "metadata": {},
   "outputs": [
    {
     "name": "stderr",
     "output_type": "stream",
     "text": [
      "C:\\Users\\renhao\\Anaconda3\\lib\\site-packages\\ipykernel_launcher.py:3: FutureWarning: Currently, 'apply' passes the values as ndarrays to the applied function. In the future, this will change to passing it as Series objects. You need to specify 'raw=True' to keep the current behaviour, and you can pass 'raw=False' to silence this warning\n",
      "  This is separate from the ipykernel package so we can avoid doing imports until\n"
     ]
    },
    {
     "data": {
      "text/html": [
       "<div>\n",
       "<style scoped>\n",
       "    .dataframe tbody tr th:only-of-type {\n",
       "        vertical-align: middle;\n",
       "    }\n",
       "\n",
       "    .dataframe tbody tr th {\n",
       "        vertical-align: top;\n",
       "    }\n",
       "\n",
       "    .dataframe thead th {\n",
       "        text-align: right;\n",
       "    }\n",
       "</style>\n",
       "<table border=\"1\" class=\"dataframe\">\n",
       "  <thead>\n",
       "    <tr style=\"text-align: right;\">\n",
       "      <th></th>\n",
       "      <th>date_str</th>\n",
       "      <th>main_contract</th>\n",
       "    </tr>\n",
       "  </thead>\n",
       "  <tbody>\n",
       "    <tr>\n",
       "      <th>0</th>\n",
       "      <td>2016-01-04</td>\n",
       "      <td>H16</td>\n",
       "    </tr>\n",
       "    <tr>\n",
       "      <th>1</th>\n",
       "      <td>2016-02-24</td>\n",
       "      <td>K16</td>\n",
       "    </tr>\n",
       "    <tr>\n",
       "      <th>2</th>\n",
       "      <td>2016-04-20</td>\n",
       "      <td>N16</td>\n",
       "    </tr>\n",
       "    <tr>\n",
       "      <th>3</th>\n",
       "      <td>2016-06-29</td>\n",
       "      <td>U16</td>\n",
       "    </tr>\n",
       "    <tr>\n",
       "      <th>4</th>\n",
       "      <td>2016-08-17</td>\n",
       "      <td>Z16</td>\n",
       "    </tr>\n",
       "    <tr>\n",
       "      <th>5</th>\n",
       "      <td>2016-11-29</td>\n",
       "      <td>H17</td>\n",
       "    </tr>\n",
       "    <tr>\n",
       "      <th>6</th>\n",
       "      <td>2017-02-27</td>\n",
       "      <td>K17</td>\n",
       "    </tr>\n",
       "    <tr>\n",
       "      <th>7</th>\n",
       "      <td>2017-04-20</td>\n",
       "      <td>N17</td>\n",
       "    </tr>\n",
       "    <tr>\n",
       "      <th>8</th>\n",
       "      <td>2017-06-28</td>\n",
       "      <td>U17</td>\n",
       "    </tr>\n",
       "    <tr>\n",
       "      <th>9</th>\n",
       "      <td>2017-08-17</td>\n",
       "      <td>Z17</td>\n",
       "    </tr>\n",
       "    <tr>\n",
       "      <th>10</th>\n",
       "      <td>2017-11-28</td>\n",
       "      <td>H18</td>\n",
       "    </tr>\n",
       "    <tr>\n",
       "      <th>11</th>\n",
       "      <td>2018-02-27</td>\n",
       "      <td>K18</td>\n",
       "    </tr>\n",
       "    <tr>\n",
       "      <th>12</th>\n",
       "      <td>2018-04-20</td>\n",
       "      <td>N18</td>\n",
       "    </tr>\n",
       "    <tr>\n",
       "      <th>13</th>\n",
       "      <td>2018-06-29</td>\n",
       "      <td>U18</td>\n",
       "    </tr>\n",
       "    <tr>\n",
       "      <th>14</th>\n",
       "      <td>2018-08-17</td>\n",
       "      <td>Z18</td>\n",
       "    </tr>\n",
       "    <tr>\n",
       "      <th>15</th>\n",
       "      <td>2018-08-20</td>\n",
       "      <td>H19</td>\n",
       "    </tr>\n",
       "  </tbody>\n",
       "</table>\n",
       "</div>"
      ],
      "text/plain": [
       "      date_str main_contract\n",
       "0   2016-01-04           H16\n",
       "1   2016-02-24           K16\n",
       "2   2016-04-20           N16\n",
       "3   2016-06-29           U16\n",
       "4   2016-08-17           Z16\n",
       "5   2016-11-29           H17\n",
       "6   2017-02-27           K17\n",
       "7   2017-04-20           N17\n",
       "8   2017-06-28           U17\n",
       "9   2017-08-17           Z17\n",
       "10  2017-11-28           H18\n",
       "11  2018-02-27           K18\n",
       "12  2018-04-20           N18\n",
       "13  2018-06-29           U18\n",
       "14  2018-08-17           Z18\n",
       "15  2018-08-20           H19"
      ]
     },
     "execution_count": 10,
     "metadata": {},
     "output_type": "execute_result"
    }
   ],
   "source": [
    "# Get the main contracts changing date\n",
    "main_contracts = pd.read_csv(working_dir+\"/data/ZC/front.csv\", header=None, names=['date_str', 'main_contract'])\n",
    "main_contracts['Change'] = main_contracts.main_contract.apply(lambda x: hash(x)).rolling(2).apply(lambda x: 1 if x[1] != x[0] else 0).fillna(1)\n",
    "change_dates = main_contracts[main_contracts['Change'] == 1][['date_str', 'main_contract']].reset_index(drop=True)\n",
    "change_dates\n"
   ]
  },
  {
   "cell_type": "code",
   "execution_count": 12,
   "metadata": {},
   "outputs": [],
   "source": [
    "change_dates.to_csv(working_dir+\"/data/main_contract_change_dates.csv\", index=False)"
   ]
  },
  {
   "cell_type": "code",
   "execution_count": 7,
   "metadata": {},
   "outputs": [
    {
     "data": {
      "text/html": [
       "<div>\n",
       "<style scoped>\n",
       "    .dataframe tbody tr th:only-of-type {\n",
       "        vertical-align: middle;\n",
       "    }\n",
       "\n",
       "    .dataframe tbody tr th {\n",
       "        vertical-align: top;\n",
       "    }\n",
       "\n",
       "    .dataframe thead th {\n",
       "        text-align: right;\n",
       "    }\n",
       "</style>\n",
       "<table border=\"1\" class=\"dataframe\">\n",
       "  <thead>\n",
       "    <tr style=\"text-align: right;\">\n",
       "      <th></th>\n",
       "      <th>Open</th>\n",
       "      <th>High</th>\n",
       "      <th>Low</th>\n",
       "      <th>Close</th>\n",
       "      <th>TotalVolume</th>\n",
       "      <th>Volume</th>\n",
       "    </tr>\n",
       "  </thead>\n",
       "  <tbody>\n",
       "    <tr>\n",
       "      <th>2016-01-03 19:01:00</th>\n",
       "      <td>359.50</td>\n",
       "      <td>360.00</td>\n",
       "      <td>359.00</td>\n",
       "      <td>359.75</td>\n",
       "      <td>1215</td>\n",
       "      <td>1215.0</td>\n",
       "    </tr>\n",
       "    <tr>\n",
       "      <th>2016-01-03 19:02:00</th>\n",
       "      <td>359.75</td>\n",
       "      <td>359.75</td>\n",
       "      <td>359.25</td>\n",
       "      <td>359.50</td>\n",
       "      <td>1715</td>\n",
       "      <td>500.0</td>\n",
       "    </tr>\n",
       "    <tr>\n",
       "      <th>2016-01-03 19:03:00</th>\n",
       "      <td>359.50</td>\n",
       "      <td>359.50</td>\n",
       "      <td>359.00</td>\n",
       "      <td>359.00</td>\n",
       "      <td>2059</td>\n",
       "      <td>344.0</td>\n",
       "    </tr>\n",
       "    <tr>\n",
       "      <th>2016-01-03 19:04:00</th>\n",
       "      <td>359.00</td>\n",
       "      <td>359.25</td>\n",
       "      <td>359.00</td>\n",
       "      <td>359.00</td>\n",
       "      <td>2077</td>\n",
       "      <td>18.0</td>\n",
       "    </tr>\n",
       "    <tr>\n",
       "      <th>2016-01-03 19:05:00</th>\n",
       "      <td>359.00</td>\n",
       "      <td>359.00</td>\n",
       "      <td>359.00</td>\n",
       "      <td>359.00</td>\n",
       "      <td>2119</td>\n",
       "      <td>42.0</td>\n",
       "    </tr>\n",
       "  </tbody>\n",
       "</table>\n",
       "</div>"
      ],
      "text/plain": [
       "<div>\n",
       "<style scoped>\n",
       "    .dataframe tbody tr th:only-of-type {\n",
       "        vertical-align: middle;\n",
       "    }\n",
       "\n",
       "    .dataframe tbody tr th {\n",
       "        vertical-align: top;\n",
       "    }\n",
       "\n",
       "    .dataframe thead th {\n",
       "        text-align: right;\n",
       "    }\n",
       "</style>\n",
       "<table border=\"1\" class=\"dataframe\">\n",
       "  <thead>\n",
       "    <tr style=\"text-align: right;\">\n",
       "      <th></th>\n",
       "      <th>Open</th>\n",
       "      <th>High</th>\n",
       "      <th>Low</th>\n",
       "      <th>Close</th>\n",
       "      <th>TotalVolume</th>\n",
       "      <th>Volume</th>\n",
       "    </tr>\n",
       "  </thead>\n",
       "  <tbody>\n",
       "    <tr>\n",
       "      <th>2016-01-03 19:01:00</th>\n",
       "      <td>359.50</td>\n",
       "      <td>360.00</td>\n",
       "      <td>359.00</td>\n",
       "      <td>359.75</td>\n",
       "      <td>1215</td>\n",
       "      <td>1215.0</td>\n",
       "    </tr>\n",
       "    <tr>\n",
       "      <th>2016-01-03 19:02:00</th>\n",
       "      <td>359.75</td>\n",
       "      <td>359.75</td>\n",
       "      <td>359.25</td>\n",
       "      <td>359.50</td>\n",
       "      <td>1715</td>\n",
       "      <td>500.0</td>\n",
       "    </tr>\n",
       "    <tr>\n",
       "      <th>2016-01-03 19:03:00</th>\n",
       "      <td>359.50</td>\n",
       "      <td>359.50</td>\n",
       "      <td>359.00</td>\n",
       "      <td>359.00</td>\n",
       "      <td>2059</td>\n",
       "      <td>344.0</td>\n",
       "    </tr>\n",
       "    <tr>\n",
       "      <th>2016-01-03 19:04:00</th>\n",
       "      <td>359.00</td>\n",
       "      <td>359.25</td>\n",
       "      <td>359.00</td>\n",
       "      <td>359.00</td>\n",
       "      <td>2077</td>\n",
       "      <td>18.0</td>\n",
       "    </tr>\n",
       "    <tr>\n",
       "      <th>2016-01-03 19:05:00</th>\n",
       "      <td>359.00</td>\n",
       "      <td>359.00</td>\n",
       "      <td>359.00</td>\n",
       "      <td>359.00</td>\n",
       "      <td>2119</td>\n",
       "      <td>42.0</td>\n",
       "    </tr>\n",
       "  </tbody>\n",
       "</table>\n",
       "</div>"
      ]
     },
     "execution_count": 7,
     "metadata": {},
     "output_type": "execute_result"
    }
   ],
   "source": [
    ""
   ]
  },
  {
   "cell_type": "code",
   "execution_count": 36,
   "metadata": {},
   "outputs": [],
   "source": [
    "def get_sub_data_between_time_interval(all_data,\n",
    "                                   start_date=\"2016-01-03\", \n",
    "                                   start_time_in_day=\"19:00:00\", \n",
    "                                   end_date=\"2019-03-01\", \n",
    "                                   end_time_in_day=\"13:20:00\",\n",
    "                                   include = True):\n",
    "    start_index = start_date + \" \" + start_time_in_day\n",
    "    end_index = end_date + \" \" + end_time_in_day\n",
    "    t_interval = (all_data.index >= start_index) & (all_data.index <= end_index) \\\n",
    "        if include else \\\n",
    "        (all_data.index > start_index) & (all_data.index < end_index)\n",
    "    sub_data = all_data.loc[t_interval]\n",
    "    return sub_data\n",
    "\n",
    "def get_sub_data_in_no_of_transactions(all_data,\n",
    "                                   start_date=\"2016-01-03\", \n",
    "                                   start_time_in_day=\"19:00:00\", \n",
    "                                   no_of_trans = 10000,\n",
    "                                   include = True):\n",
    "    start_index = start_date + \" \" + start_time_in_day\n",
    "    t_interval = (all_data.index >= start_index) \\\n",
    "        if include else \\\n",
    "        (all_data.index > start_index)\n",
    "    sub_data = all_data.loc[t_interval][:no_of_trans]\n",
    "    return sub_data\n",
    "    \n",
    "def get_combined_sub_data_by_period(all_data,\n",
    "                                    start_date=\"2016-01-03\", \n",
    "                                    start_time_in_day=\"19:00:00\",\n",
    "                                    end_date=\"2019-03-01\", \n",
    "                                    end_time_in_day=\"13:20:00\",\n",
    "                                    period = \"D\",\n",
    "                                    include = True):\n",
    "    # start_index = start_date + \" \" + start_time_in_day\n",
    "    # end_index = end_date + \" \" + end_time_in_day\n",
    "    # t_interval = (all_data.index >= start_index) & (all_data.index <= end_index) \\\n",
    "    #     if include else \\\n",
    "    #     (all_data.index > start_index) & (all_data.index < end_index)\n",
    "    # sub_data = all_data.loc[t_interval]\n",
    "    #sub_data = sub_data.resample(\"1Min\").agg({'Open': 'first', 'High': 'max', 'Low': 'min', 'Close': 'last', 'TotalVolume': 'last'})\n",
    "    sub_data = get_sub_data_between_time_interval(all_data, start_date, start_time_in_day, end_date, end_time_in_day, include=include)\n",
    "    # sub_data = sub_data.between_time('19:00', '13:20', include_start=True, include_end=True)\n",
    "    proxy = sub_data.index + pd.DateOffset(hours=5)\n",
    "    combined_data = sub_data.groupby(proxy.date).agg(\n",
    "        {'Open': 'first', 'High': 'max', 'Low': 'min', 'Close': 'last', 'TotalVolume': 'last'})\n",
    "    combined_data = combined_data.reindex(columns=['Open', 'High', 'Low', 'Close', 'TotalVolume'])\n",
    "    combined_data.index = pd.DatetimeIndex(combined_data.index)\n",
    "    return combined_data.resample(period).agg({'Open': 'first', 'High': 'max', 'Low': 'min', 'Close': 'last', 'TotalVolume': 'sum'})"
   ]
  },
  {
   "cell_type": "code",
   "execution_count": 9,
   "metadata": {},
   "outputs": [],
   "source": [
    "def get_stat_val_between_time_interval(sub_data,\n",
    "                                   attribute=\"Close\", \n",
    "                                   stat_method=\"Mean\"):\n",
    "                                   # start_date=\"2016-01-03\", \n",
    "                                   # start_time_in_day=\"19:00:00\", \n",
    "                                   # end_date=\"2019-03-01\", \n",
    "                                   # end_time_in_day=\"13:20:00\",\n",
    "                                   # no_of_trans = 10000,\n",
    "                                   # include = True,\n",
    "                                   # by_time = True):\n",
    "    \n",
    "    # sub_data = get_sub_data_between_time_interval(all_data, start_date, start_time_in_day, end_date, end_time_in_day, include) \\\n",
    "    #     if by_time else get_sub_data_in_no_of_transactions(all_data, start_date, start_time_in_day, no_of_trans, include)\n",
    "    \n",
    "    stat_dict = {\n",
    "        \"Mean\": sub_data[attribute].mean(),\n",
    "        \"SD\": sub_data[attribute].std(),\n",
    "        \"Diff\": sub_data[attribute].diff(),\n",
    "        \"P_change\": sub_data[attribute].pct_change(),\n",
    "        \"Log_return\": np.log(sub_data[attribute]) - np.log(sub_data[attribute].shift(1)),\n",
    "    }\n",
    "    \n",
    "    return stat_dict[stat_method]"
   ]
  },
  {
   "cell_type": "code",
   "execution_count": 53,
   "metadata": {},
   "outputs": [
    {
     "name": "stdout",
     "output_type": "stream",
     "text": [
      "321916\n162892\n"
     ]
    }
   ],
   "source": [
    "# sd = get_sub_data_between_time_interval(all_data, end_date=\"2016-01-03\", end_time_in_day=\"19:20:00\")\n",
    "# sd = get_combined_sub_data_by_period(all_data, end_date=\"2016-01-03\", end_time_in_day=\"23:00:00\",period=\"5Min\")\n",
    "# sd\n",
    "sd_new = all_data.resample(\"5Min\", label=\"right\", closed=\"right\").agg(\n",
    "        {'Open': 'first', 'High': 'max', 'Low': 'min', 'Close': 'last', 'Volume': 'sum'})\n",
    "# print(sd_new)\n",
    "print(len(sd_new))\n",
    "sd_new = sd_new.dropna()\n",
    "print(len(sd_new))\n",
    "sd_new.to_csv(working_dir+\"/data/combined_data_5mins.csv\")\n",
    "# sd_new = sd_new.fillna(method='ffill')\n",
    "# sd_new\n",
    "# all_data.tail(20)"
   ]
  },
  {
   "cell_type": "code",
   "execution_count": 105,
   "metadata": {},
   "outputs": [
    {
     "data": {
      "text/html": [
       "<div>\n",
       "<style scoped>\n",
       "    .dataframe tbody tr th:only-of-type {\n",
       "        vertical-align: middle;\n",
       "    }\n",
       "\n",
       "    .dataframe tbody tr th {\n",
       "        vertical-align: top;\n",
       "    }\n",
       "\n",
       "    .dataframe thead th {\n",
       "        text-align: right;\n",
       "    }\n",
       "</style>\n",
       "<table border=\"1\" class=\"dataframe\">\n",
       "  <thead>\n",
       "    <tr style=\"text-align: right;\">\n",
       "      <th></th>\n",
       "      <th>Open</th>\n",
       "      <th>High</th>\n",
       "      <th>Low</th>\n",
       "      <th>Close</th>\n",
       "      <th>TotalVolume</th>\n",
       "    </tr>\n",
       "  </thead>\n",
       "  <tbody>\n",
       "    <tr>\n",
       "      <th>2016-01-04</th>\n",
       "      <td>359.50</td>\n",
       "      <td>360.0</td>\n",
       "      <td>350.5</td>\n",
       "      <td>352.00</td>\n",
       "      <td>170742</td>\n",
       "    </tr>\n",
       "    <tr>\n",
       "      <th>2016-01-05</th>\n",
       "      <td>352.75</td>\n",
       "      <td>354.5</td>\n",
       "      <td>352.5</td>\n",
       "      <td>354.25</td>\n",
       "      <td>8257</td>\n",
       "    </tr>\n",
       "  </tbody>\n",
       "</table>\n",
       "</div>"
      ],
      "text/plain": [
       "<div>\n",
       "<style scoped>\n",
       "    .dataframe tbody tr th:only-of-type {\n",
       "        vertical-align: middle;\n",
       "    }\n",
       "\n",
       "    .dataframe tbody tr th {\n",
       "        vertical-align: top;\n",
       "    }\n",
       "\n",
       "    .dataframe thead th {\n",
       "        text-align: right;\n",
       "    }\n",
       "</style>\n",
       "<table border=\"1\" class=\"dataframe\">\n",
       "  <thead>\n",
       "    <tr style=\"text-align: right;\">\n",
       "      <th></th>\n",
       "      <th>Open</th>\n",
       "      <th>High</th>\n",
       "      <th>Low</th>\n",
       "      <th>Close</th>\n",
       "      <th>TotalVolume</th>\n",
       "    </tr>\n",
       "  </thead>\n",
       "  <tbody>\n",
       "    <tr>\n",
       "      <th>2016-01-04</th>\n",
       "      <td>359.50</td>\n",
       "      <td>360.0</td>\n",
       "      <td>350.5</td>\n",
       "      <td>352.00</td>\n",
       "      <td>170742</td>\n",
       "    </tr>\n",
       "    <tr>\n",
       "      <th>2016-01-05</th>\n",
       "      <td>352.75</td>\n",
       "      <td>354.5</td>\n",
       "      <td>352.5</td>\n",
       "      <td>354.25</td>\n",
       "      <td>8257</td>\n",
       "    </tr>\n",
       "  </tbody>\n",
       "</table>\n",
       "</div>"
      ]
     },
     "execution_count": 105,
     "metadata": {},
     "output_type": "execute_result"
    }
   ],
   "source": [
    ""
   ]
  },
  {
   "cell_type": "code",
   "execution_count": 9,
   "metadata": {},
   "outputs": [
    {
     "name": "stdout",
     "output_type": "stream",
     "text": [
      "                       Open    High     Low   Close  TotalVolume  Volume\n2016-01-03 19:01:00  359.50  360.00  359.00  359.75         1215  1215.0\n2016-01-03 19:02:00  359.75  359.75  359.25  359.50         1715   500.0\n2016-01-03 19:03:00  359.50  359.50  359.00  359.00         2059   344.0\n2016-01-03 19:04:00  359.00  359.25  359.00  359.00         2077    18.0\n2016-01-03 19:05:00  359.00  359.00  359.00  359.00         2119    42.0\n                       Open    High     Low   Close  TotalVolume  Volume\n2016-01-03 19:01:00  359.50  360.00  359.00  359.75         1215  1215.0\n2016-01-03 19:02:00  359.75  359.75  359.25  359.50         1715   500.0\n2016-01-03 19:03:00  359.50  359.50  359.00  359.00         2059   344.0\n2016-01-03 19:04:00  359.00  359.25  359.00  359.00         2077    18.0\n2016-01-03 19:05:00  359.00  359.00  359.00  359.00         2119    42.0\n              Open   High     Low  Close  TotalVolume\n2016-01-04  359.50  360.0  350.50  352.0       170742\n2016-01-05  352.75  356.0  351.75  353.5       131944\n354.8092766242465\n202.73677160080376\n2.164212643539731\n2016-01-03 19:01:00     NaN\n2016-01-03 19:02:00   -0.25\n2016-01-03 19:03:00   -0.50\n2016-01-03 19:04:00    0.00\n2016-01-03 19:05:00    0.00\n2016-01-03 19:06:00    0.25\n2016-01-03 19:07:00   -0.25\n2016-01-03 19:08:00   -0.25\n2016-01-03 19:09:00    0.25\n2016-01-03 19:10:00    0.00\n2016-01-03 19:11:00   -0.25\n2016-01-03 19:13:00    0.25\n2016-01-03 19:14:00    0.00\n2016-01-03 19:17:00   -0.25\n2016-01-03 19:20:00    0.00\n2016-01-03 19:22:00    0.00\n2016-01-03 19:23:00   -0.25\n2016-01-03 19:24:00    0.00\n2016-01-03 19:25:00    0.00\n2016-01-03 19:26:00    0.00\n2016-01-03 19:29:00    0.25\n2016-01-03 19:30:00    0.00\n2016-01-03 19:31:00    0.00\n2016-01-03 19:32:00   -0.25\n2016-01-03 19:33:00    0.25\n2016-01-03 19:34:00    0.00\n2016-01-03 19:36:00    0.00\n2016-01-03 19:37:00   -0.25\n2016-01-03 19:38:00    0.25\n2016-01-03 19:39:00    0.00\n                       ... \n2016-01-05 12:51:00    0.00\n2016-01-05 12:52:00    0.00\n2016-01-05 12:53:00    0.00\n2016-01-05 12:54:00    0.00\n2016-01-05 12:55:00    0.00\n2016-01-05 12:56:00   -0.25\n2016-01-05 12:57:00    0.25\n2016-01-05 12:58:00   -0.25\n2016-01-05 12:59:00    0.00\n2016-01-05 13:00:00   -0.25\n2016-01-05 13:01:00    0.00\n2016-01-05 13:02:00    0.50\n2016-01-05 13:03:00   -0.25\n2016-01-05 13:04:00    0.00\n2016-01-05 13:05:00    0.00\n2016-01-05 13:06:00   -0.25\n2016-01-05 13:07:00   -0.25\n2016-01-05 13:08:00    0.00\n2016-01-05 13:09:00    0.00\n2016-01-05 13:10:00   -0.25\n2016-01-05 13:11:00    0.25\n2016-01-05 13:12:00    0.00\n2016-01-05 13:13:00    0.25\n2016-01-05 13:14:00    0.25\n2016-01-05 13:15:00   -0.25\n2016-01-05 13:16:00    0.00\n2016-01-05 13:17:00    0.25\n2016-01-05 13:18:00   -0.25\n2016-01-05 13:19:00    0.25\n2016-01-05 13:20:00    0.25\nName: Close, Length: 1493, dtype: float64\n2016-01-03 19:01:00         NaN\n2016-01-03 19:02:00   -0.000695\n2016-01-03 19:03:00   -0.001391\n2016-01-03 19:04:00    0.000000\n2016-01-03 19:05:00    0.000000\n2016-01-03 19:06:00    0.000696\n2016-01-03 19:07:00   -0.000696\n2016-01-03 19:08:00   -0.000696\n2016-01-03 19:09:00    0.000697\n2016-01-03 19:10:00    0.000000\n2016-01-03 19:11:00   -0.000696\n2016-01-03 19:13:00    0.000697\n2016-01-03 19:14:00    0.000000\n2016-01-03 19:17:00   -0.000696\n2016-01-03 19:20:00    0.000000\n2016-01-03 19:22:00    0.000000\n2016-01-03 19:23:00   -0.000697\n2016-01-03 19:24:00    0.000000\n2016-01-03 19:25:00    0.000000\n2016-01-03 19:26:00    0.000000\n2016-01-03 19:29:00    0.000697\n2016-01-03 19:30:00    0.000000\n2016-01-03 19:31:00    0.000000\n2016-01-03 19:32:00   -0.000697\n2016-01-03 19:33:00    0.000697\n2016-01-03 19:34:00    0.000000\n2016-01-03 19:36:00    0.000000\n2016-01-03 19:37:00   -0.000697\n2016-01-03 19:38:00    0.000697\n2016-01-03 19:39:00    0.000000\n                         ...   \n2016-01-05 12:51:00    0.000000\n2016-01-05 12:52:00    0.000000\n2016-01-05 12:53:00    0.000000\n2016-01-05 12:54:00    0.000000\n2016-01-05 12:55:00    0.000000\n2016-01-05 12:56:00   -0.000707\n2016-01-05 12:57:00    0.000708\n2016-01-05 12:58:00   -0.000707\n2016-01-05 12:59:00    0.000000\n2016-01-05 13:00:00   -0.000708\n2016-01-05 13:01:00    0.000000\n2016-01-05 13:02:00    0.001416\n2016-01-05 13:03:00   -0.000707\n2016-01-05 13:04:00    0.000000\n2016-01-05 13:05:00    0.000000\n2016-01-05 13:06:00   -0.000708\n2016-01-05 13:07:00   -0.000708\n2016-01-05 13:08:00    0.000000\n2016-01-05 13:09:00    0.000000\n2016-01-05 13:10:00   -0.000709\n2016-01-05 13:11:00    0.000709\n2016-01-05 13:12:00    0.000000\n2016-01-05 13:13:00    0.000709\n2016-01-05 13:14:00    0.000708\n2016-01-05 13:15:00   -0.000708\n2016-01-05 13:16:00    0.000000\n2016-01-05 13:17:00    0.000708\n2016-01-05 13:18:00   -0.000708\n2016-01-05 13:19:00    0.000708\n2016-01-05 13:20:00    0.000708\nName: Close, Length: 1493, dtype: float64\n2016-01-03 19:01:00         NaN\n2016-01-03 19:02:00   -0.000695\n2016-01-03 19:03:00   -0.001392\n2016-01-03 19:04:00    0.000000\n2016-01-03 19:05:00    0.000000\n2016-01-03 19:06:00    0.000696\n2016-01-03 19:07:00   -0.000696\n2016-01-03 19:08:00   -0.000697\n2016-01-03 19:09:00    0.000697\n2016-01-03 19:10:00    0.000000\n2016-01-03 19:11:00   -0.000697\n2016-01-03 19:13:00    0.000697\n2016-01-03 19:14:00    0.000000\n2016-01-03 19:17:00   -0.000697\n2016-01-03 19:20:00    0.000000\n2016-01-03 19:22:00    0.000000\n2016-01-03 19:23:00   -0.000697\n2016-01-03 19:24:00    0.000000\n2016-01-03 19:25:00    0.000000\n2016-01-03 19:26:00    0.000000\n2016-01-03 19:29:00    0.000697\n2016-01-03 19:30:00    0.000000\n2016-01-03 19:31:00    0.000000\n2016-01-03 19:32:00   -0.000697\n2016-01-03 19:33:00    0.000697\n2016-01-03 19:34:00    0.000000\n2016-01-03 19:36:00    0.000000\n2016-01-03 19:37:00   -0.000697\n2016-01-03 19:38:00    0.000697\n2016-01-03 19:39:00    0.000000\n                         ...   \n2016-01-05 12:51:00    0.000000\n2016-01-05 12:52:00    0.000000\n2016-01-05 12:53:00    0.000000\n2016-01-05 12:54:00    0.000000\n2016-01-05 12:55:00    0.000000\n2016-01-05 12:56:00   -0.000707\n2016-01-05 12:57:00    0.000707\n2016-01-05 12:58:00   -0.000707\n2016-01-05 12:59:00    0.000000\n2016-01-05 13:00:00   -0.000708\n2016-01-05 13:01:00    0.000000\n2016-01-05 13:02:00    0.001415\n2016-01-05 13:03:00   -0.000707\n2016-01-05 13:04:00    0.000000\n2016-01-05 13:05:00    0.000000\n2016-01-05 13:06:00   -0.000708\n2016-01-05 13:07:00   -0.000708\n2016-01-05 13:08:00    0.000000\n2016-01-05 13:09:00    0.000000\n2016-01-05 13:10:00   -0.000709\n2016-01-05 13:11:00    0.000709\n2016-01-05 13:12:00    0.000000\n2016-01-05 13:13:00    0.000708\n2016-01-05 13:14:00    0.000708\n2016-01-05 13:15:00   -0.000708\n2016-01-05 13:16:00    0.000000\n2016-01-05 13:17:00    0.000708\n2016-01-05 13:18:00   -0.000708\n2016-01-05 13:19:00    0.000708\n2016-01-05 13:20:00    0.000707\nName: Close, Length: 1493, dtype: float64\n"
     ]
    }
   ],
   "source": [
    "# Get all data from what we have, put your combined_data.csv under the folder named \"data\" in your working directory\n",
    "all_data = pd.read_csv(working_dir+\"/data/combined_data.csv\", header=0, index_col=0, parse_dates=[0])\n",
    "\n",
    "# Get tick data by time interval from 2016-01-03 19:00:00 to 2016-01-05 13:20:00\n",
    "sample_data_1 = get_sub_data_between_time_interval(all_data, start_date=\"2016-01-03\", start_time_in_day=\"19:00:00\", end_date=\"2016-01-05\", \n",
    "                              end_time_in_day=\"13:20:00\")\n",
    "print(sample_data_1.head())\n",
    "\n",
    "# Get next 10000 transaction data start from 2016-01-03 19:00:00\n",
    "sample_data_2 = get_sub_data_in_no_of_transactions(all_data, start_date=\"2016-01-03\", start_time_in_day=\"19:00:00\", no_of_trans=10000)\n",
    "print(sample_data_2.head())\n",
    "\n",
    "# Get daily data by time interval from 2016-01-03 19:00:00 to 2016-01-05 13:20:00\n",
    "sample_data_3 = get_combined_sub_data_by_period(all_data, period=\"D\", start_date=\"2016-01-03\", start_time_in_day=\"19:00:00\", end_date=\"2016-01-05\", \n",
    "                               end_time_in_day=\"13:20:00\")\n",
    "print(sample_data_3.head())\n",
    "\n",
    "# Get statistic values from sub data\n",
    "# Mean close price for sample 1\n",
    "mean_close_1 = get_stat_val_between_time_interval(sample_data_1, attribute=\"Close\", stat_method=\"Mean\")\n",
    "print(mean_close_1)\n",
    "\n",
    "# Mean volume for sample 1\n",
    "mean_volume_1 = get_stat_val_between_time_interval(sample_data_1, attribute=\"Volume\", stat_method=\"Mean\")\n",
    "print(mean_volume_1)\n",
    "\n",
    "# Standard deviation of close price for sample 1\n",
    "sd_close_1 = get_stat_val_between_time_interval(sample_data_1, attribute=\"Close\", stat_method=\"SD\")\n",
    "print(sd_close_1)\n",
    "\n",
    "# Change of close price for sample 1\n",
    "diff_close_1 = get_stat_val_between_time_interval(sample_data_1, attribute=\"Close\", stat_method=\"Diff\")\n",
    "print(diff_close_1)\n",
    "\n",
    "# Percentage change of close price for sample 1\n",
    "pchange_close_1 = get_stat_val_between_time_interval(sample_data_1, attribute=\"Close\", stat_method=\"P_change\")\n",
    "print(pchange_close_1)\n",
    "\n",
    "# Log return of close price for sample 1\n",
    "lr_close_1 = get_stat_val_between_time_interval(sample_data_1, attribute=\"Close\", stat_method=\"Log_return\")\n",
    "print(lr_close_1)"
   ]
  },
  {
   "cell_type": "code",
   "execution_count": 11,
   "metadata": {},
   "outputs": [
    {
     "name": "stdout",
     "output_type": "stream",
     "text": [
      "              Open    High     Low   Close  TotalVolume\n2016-01-04  359.50  360.00  350.50  352.00       170742\n2016-01-05  352.75  356.00  351.75  353.50       131944\n2016-01-06  353.50  354.75  350.25  353.25       124626\n2016-01-07  353.25  354.25  348.50  353.00       137217\n2016-01-08  353.00  357.75  352.75  357.25       166509\n"
     ]
    }
   ],
   "source": [
    "sample_data_3 = get_combined_sub_data_by_period(all_data, period=\"D\", start_date=\"2016-01-03\", start_time_in_day=\"19:00:00\", end_date=\"2017-01-03\", \n",
    "                               end_time_in_day=\"13:20:00\")\n",
    "print(sample_data_3.head())"
   ]
  },
  {
   "cell_type": "code",
   "execution_count": 12,
   "metadata": {},
   "outputs": [
    {
     "name": "stdout",
     "output_type": "stream",
     "text": [
      "             Open   High     Low   Close  TotalVolume\n2016-12-30  349.5  353.0  347.75  351.00        99748\n2016-12-31    NaN    NaN     NaN     NaN            0\n2017-01-01    NaN    NaN     NaN     NaN            0\n2017-01-02    NaN    NaN     NaN     NaN            0\n2017-01-03  352.0  358.5  351.50  355.75       158650\n"
     ]
    }
   ],
   "source": [
    "print(sample_data_3.tail())"
   ]
  },
  {
   "cell_type": "code",
   "execution_count": 13,
   "metadata": {
    "collapsed": true
   },
   "outputs": [
    {
     "name": "stdout",
     "output_type": "stream",
     "text": [
      "            Open  High  Low  Close  TotalVolume\n2016-01-09   NaN   NaN  NaN    NaN            0\n2016-01-10   NaN   NaN  NaN    NaN            0\n2016-01-16   NaN   NaN  NaN    NaN            0\n2016-01-17   NaN   NaN  NaN    NaN            0\n2016-01-18   NaN   NaN  NaN    NaN            0\n2016-01-23   NaN   NaN  NaN    NaN            0\n2016-01-24   NaN   NaN  NaN    NaN            0\n2016-01-30   NaN   NaN  NaN    NaN            0\n2016-01-31   NaN   NaN  NaN    NaN            0\n2016-02-06   NaN   NaN  NaN    NaN            0\n2016-02-07   NaN   NaN  NaN    NaN            0\n2016-02-13   NaN   NaN  NaN    NaN            0\n2016-02-14   NaN   NaN  NaN    NaN            0\n2016-02-15   NaN   NaN  NaN    NaN            0\n2016-02-20   NaN   NaN  NaN    NaN            0\n2016-02-21   NaN   NaN  NaN    NaN            0\n2016-02-27   NaN   NaN  NaN    NaN            0\n2016-02-28   NaN   NaN  NaN    NaN            0\n2016-03-05   NaN   NaN  NaN    NaN            0\n2016-03-06   NaN   NaN  NaN    NaN            0\n2016-03-12   NaN   NaN  NaN    NaN            0\n2016-03-13   NaN   NaN  NaN    NaN            0\n2016-03-19   NaN   NaN  NaN    NaN            0\n2016-03-20   NaN   NaN  NaN    NaN            0\n2016-03-25   NaN   NaN  NaN    NaN            0\n2016-03-26   NaN   NaN  NaN    NaN            0\n2016-03-27   NaN   NaN  NaN    NaN            0\n2016-04-02   NaN   NaN  NaN    NaN            0\n2016-04-03   NaN   NaN  NaN    NaN            0\n2016-04-09   NaN   NaN  NaN    NaN            0\n...          ...   ...  ...    ...          ...\n2016-10-02   NaN   NaN  NaN    NaN            0\n2016-10-08   NaN   NaN  NaN    NaN            0\n2016-10-09   NaN   NaN  NaN    NaN            0\n2016-10-15   NaN   NaN  NaN    NaN            0\n2016-10-16   NaN   NaN  NaN    NaN            0\n2016-10-22   NaN   NaN  NaN    NaN            0\n2016-10-23   NaN   NaN  NaN    NaN            0\n2016-10-29   NaN   NaN  NaN    NaN            0\n2016-10-30   NaN   NaN  NaN    NaN            0\n2016-11-05   NaN   NaN  NaN    NaN            0\n2016-11-06   NaN   NaN  NaN    NaN            0\n2016-11-12   NaN   NaN  NaN    NaN            0\n2016-11-13   NaN   NaN  NaN    NaN            0\n2016-11-19   NaN   NaN  NaN    NaN            0\n2016-11-20   NaN   NaN  NaN    NaN            0\n2016-11-24   NaN   NaN  NaN    NaN            0\n2016-11-26   NaN   NaN  NaN    NaN            0\n2016-11-27   NaN   NaN  NaN    NaN            0\n2016-12-03   NaN   NaN  NaN    NaN            0\n2016-12-04   NaN   NaN  NaN    NaN            0\n2016-12-10   NaN   NaN  NaN    NaN            0\n2016-12-11   NaN   NaN  NaN    NaN            0\n2016-12-17   NaN   NaN  NaN    NaN            0\n2016-12-18   NaN   NaN  NaN    NaN            0\n2016-12-24   NaN   NaN  NaN    NaN            0\n2016-12-25   NaN   NaN  NaN    NaN            0\n2016-12-26   NaN   NaN  NaN    NaN            0\n2016-12-31   NaN   NaN  NaN    NaN            0\n2017-01-01   NaN   NaN  NaN    NaN            0\n2017-01-02   NaN   NaN  NaN    NaN            0\n\n[113 rows x 5 columns]\n"
     ]
    }
   ],
   "source": [
    "print(sample_data_3.loc[sample_data_3[\"TotalVolume\"] == 0])"
   ]
  },
  {
   "cell_type": "code",
   "execution_count": 1,
   "metadata": {},
   "outputs": [],
   "source": [
    "import src.CornCracker as CC"
   ]
  },
  {
   "cell_type": "code",
   "execution_count": 2,
   "metadata": {},
   "outputs": [],
   "source": [
    "all_data = CC.read_data_from_path()"
   ]
  },
  {
   "cell_type": "code",
   "execution_count": 18,
   "metadata": {},
   "outputs": [
    {
     "data": {
      "text/html": [
       "<div>\n",
       "<style scoped>\n",
       "    .dataframe tbody tr th:only-of-type {\n",
       "        vertical-align: middle;\n",
       "    }\n",
       "\n",
       "    .dataframe tbody tr th {\n",
       "        vertical-align: top;\n",
       "    }\n",
       "\n",
       "    .dataframe thead th {\n",
       "        text-align: right;\n",
       "    }\n",
       "</style>\n",
       "<table border=\"1\" class=\"dataframe\">\n",
       "  <thead>\n",
       "    <tr style=\"text-align: right;\">\n",
       "      <th></th>\n",
       "      <th>Open</th>\n",
       "      <th>High</th>\n",
       "      <th>Low</th>\n",
       "      <th>Close</th>\n",
       "      <th>TotalVolume</th>\n",
       "      <th>Volume</th>\n",
       "    </tr>\n",
       "  </thead>\n",
       "  <tbody>\n",
       "    <tr>\n",
       "      <th>2019-01-25 13:16:00</th>\n",
       "      <td>380.25</td>\n",
       "      <td>380.25</td>\n",
       "      <td>379.75</td>\n",
       "      <td>380.25</td>\n",
       "      <td>115213</td>\n",
       "      <td>1496.0</td>\n",
       "    </tr>\n",
       "    <tr>\n",
       "      <th>2019-01-25 13:17:00</th>\n",
       "      <td>380.00</td>\n",
       "      <td>380.25</td>\n",
       "      <td>380.00</td>\n",
       "      <td>380.00</td>\n",
       "      <td>115482</td>\n",
       "      <td>269.0</td>\n",
       "    </tr>\n",
       "    <tr>\n",
       "      <th>2019-01-25 13:18:00</th>\n",
       "      <td>380.00</td>\n",
       "      <td>380.25</td>\n",
       "      <td>380.00</td>\n",
       "      <td>380.25</td>\n",
       "      <td>115856</td>\n",
       "      <td>374.0</td>\n",
       "    </tr>\n",
       "    <tr>\n",
       "      <th>2019-01-25 13:19:00</th>\n",
       "      <td>380.25</td>\n",
       "      <td>380.25</td>\n",
       "      <td>380.00</td>\n",
       "      <td>380.25</td>\n",
       "      <td>117002</td>\n",
       "      <td>1146.0</td>\n",
       "    </tr>\n",
       "    <tr>\n",
       "      <th>2019-01-25 13:20:00</th>\n",
       "      <td>380.25</td>\n",
       "      <td>380.25</td>\n",
       "      <td>380.00</td>\n",
       "      <td>380.25</td>\n",
       "      <td>118004</td>\n",
       "      <td>1002.0</td>\n",
       "    </tr>\n",
       "  </tbody>\n",
       "</table>\n",
       "</div>"
      ],
      "text/plain": [
       "<div>\n",
       "<style scoped>\n",
       "    .dataframe tbody tr th:only-of-type {\n",
       "        vertical-align: middle;\n",
       "    }\n",
       "\n",
       "    .dataframe tbody tr th {\n",
       "        vertical-align: top;\n",
       "    }\n",
       "\n",
       "    .dataframe thead th {\n",
       "        text-align: right;\n",
       "    }\n",
       "</style>\n",
       "<table border=\"1\" class=\"dataframe\">\n",
       "  <thead>\n",
       "    <tr style=\"text-align: right;\">\n",
       "      <th></th>\n",
       "      <th>Open</th>\n",
       "      <th>High</th>\n",
       "      <th>Low</th>\n",
       "      <th>Close</th>\n",
       "      <th>TotalVolume</th>\n",
       "      <th>Volume</th>\n",
       "    </tr>\n",
       "  </thead>\n",
       "  <tbody>\n",
       "    <tr>\n",
       "      <th>2019-01-25 13:16:00</th>\n",
       "      <td>380.25</td>\n",
       "      <td>380.25</td>\n",
       "      <td>379.75</td>\n",
       "      <td>380.25</td>\n",
       "      <td>115213</td>\n",
       "      <td>1496.0</td>\n",
       "    </tr>\n",
       "    <tr>\n",
       "      <th>2019-01-25 13:17:00</th>\n",
       "      <td>380.00</td>\n",
       "      <td>380.25</td>\n",
       "      <td>380.00</td>\n",
       "      <td>380.00</td>\n",
       "      <td>115482</td>\n",
       "      <td>269.0</td>\n",
       "    </tr>\n",
       "    <tr>\n",
       "      <th>2019-01-25 13:18:00</th>\n",
       "      <td>380.00</td>\n",
       "      <td>380.25</td>\n",
       "      <td>380.00</td>\n",
       "      <td>380.25</td>\n",
       "      <td>115856</td>\n",
       "      <td>374.0</td>\n",
       "    </tr>\n",
       "    <tr>\n",
       "      <th>2019-01-25 13:19:00</th>\n",
       "      <td>380.25</td>\n",
       "      <td>380.25</td>\n",
       "      <td>380.00</td>\n",
       "      <td>380.25</td>\n",
       "      <td>117002</td>\n",
       "      <td>1146.0</td>\n",
       "    </tr>\n",
       "    <tr>\n",
       "      <th>2019-01-25 13:20:00</th>\n",
       "      <td>380.25</td>\n",
       "      <td>380.25</td>\n",
       "      <td>380.00</td>\n",
       "      <td>380.25</td>\n",
       "      <td>118004</td>\n",
       "      <td>1002.0</td>\n",
       "    </tr>\n",
       "  </tbody>\n",
       "</table>\n",
       "</div>"
      ]
     },
     "execution_count": 18,
     "metadata": {},
     "output_type": "execute_result"
    }
   ],
   "source": [
    "all_data.tail()"
   ]
  },
  {
   "cell_type": "code",
   "execution_count": 4,
   "metadata": {},
   "outputs": [],
   "source": [
    "daily_data = CC.get_combined_sub_data_by_period(all_data)"
   ]
  },
  {
   "cell_type": "code",
   "execution_count": 6,
   "metadata": {},
   "outputs": [
    {
     "data": {
      "text/plain": [
       "772"
      ]
     },
     "execution_count": 6,
     "metadata": {},
     "output_type": "execute_result"
    }
   ],
   "source": [
    "len(daily_data.dropna())"
   ]
  },
  {
   "cell_type": "code",
   "execution_count": 8,
   "metadata": {},
   "outputs": [],
   "source": [
    "CC.save_data_to_path(daily_data.dropna(), CC.working_dir + \"/data/combined_daily_data.csv\")"
   ]
  },
  {
   "cell_type": "code",
   "execution_count": 9,
   "metadata": {},
   "outputs": [],
   "source": [
    "weekly_data = CC.get_combined_sub_data_by_period(all_data, period=\"W\")"
   ]
  },
  {
   "cell_type": "code",
   "execution_count": 10,
   "metadata": {},
   "outputs": [],
   "source": [
    "CC.save_data_to_path(weekly_data.dropna(), CC.working_dir + \"/data/combined_weekly_data.csv\")"
   ]
  },
  {
   "cell_type": "code",
   "execution_count": 11,
   "metadata": {},
   "outputs": [],
   "source": [
    "daily_data = daily_data.dropna()"
   ]
  },
  {
   "cell_type": "code",
   "execution_count": 20,
   "metadata": {},
   "outputs": [
    {
     "data": {
      "text/html": [
       "<div>\n",
       "<style scoped>\n",
       "    .dataframe tbody tr th:only-of-type {\n",
       "        vertical-align: middle;\n",
       "    }\n",
       "\n",
       "    .dataframe tbody tr th {\n",
       "        vertical-align: top;\n",
       "    }\n",
       "\n",
       "    .dataframe thead th {\n",
       "        text-align: right;\n",
       "    }\n",
       "</style>\n",
       "<table border=\"1\" class=\"dataframe\">\n",
       "  <thead>\n",
       "    <tr style=\"text-align: right;\">\n",
       "      <th></th>\n",
       "      <th>Open</th>\n",
       "      <th>High</th>\n",
       "      <th>Low</th>\n",
       "      <th>Close</th>\n",
       "      <th>TotalVolume</th>\n",
       "    </tr>\n",
       "  </thead>\n",
       "  <tbody>\n",
       "    <tr>\n",
       "      <th>2016-01-10</th>\n",
       "      <td>359.5</td>\n",
       "      <td>360.00</td>\n",
       "      <td>348.5</td>\n",
       "      <td>357.25</td>\n",
       "      <td>731038</td>\n",
       "    </tr>\n",
       "    <tr>\n",
       "      <th>2016-01-17</th>\n",
       "      <td>357.0</td>\n",
       "      <td>363.75</td>\n",
       "      <td>349.5</td>\n",
       "      <td>363.25</td>\n",
       "      <td>962380</td>\n",
       "    </tr>\n",
       "    <tr>\n",
       "      <th>2016-01-24</th>\n",
       "      <td>364.0</td>\n",
       "      <td>372.00</td>\n",
       "      <td>364.0</td>\n",
       "      <td>370.00</td>\n",
       "      <td>771628</td>\n",
       "    </tr>\n",
       "    <tr>\n",
       "      <th>2016-01-31</th>\n",
       "      <td>370.0</td>\n",
       "      <td>372.50</td>\n",
       "      <td>365.0</td>\n",
       "      <td>371.50</td>\n",
       "      <td>830375</td>\n",
       "    </tr>\n",
       "    <tr>\n",
       "      <th>2016-02-07</th>\n",
       "      <td>371.0</td>\n",
       "      <td>373.75</td>\n",
       "      <td>365.5</td>\n",
       "      <td>365.50</td>\n",
       "      <td>844476</td>\n",
       "    </tr>\n",
       "  </tbody>\n",
       "</table>\n",
       "</div>"
      ],
      "text/plain": [
       "<div>\n",
       "<style scoped>\n",
       "    .dataframe tbody tr th:only-of-type {\n",
       "        vertical-align: middle;\n",
       "    }\n",
       "\n",
       "    .dataframe tbody tr th {\n",
       "        vertical-align: top;\n",
       "    }\n",
       "\n",
       "    .dataframe thead th {\n",
       "        text-align: right;\n",
       "    }\n",
       "</style>\n",
       "<table border=\"1\" class=\"dataframe\">\n",
       "  <thead>\n",
       "    <tr style=\"text-align: right;\">\n",
       "      <th></th>\n",
       "      <th>Open</th>\n",
       "      <th>High</th>\n",
       "      <th>Low</th>\n",
       "      <th>Close</th>\n",
       "      <th>TotalVolume</th>\n",
       "    </tr>\n",
       "  </thead>\n",
       "  <tbody>\n",
       "    <tr>\n",
       "      <th>2016-01-10</th>\n",
       "      <td>359.5</td>\n",
       "      <td>360.00</td>\n",
       "      <td>348.5</td>\n",
       "      <td>357.25</td>\n",
       "      <td>731038</td>\n",
       "    </tr>\n",
       "    <tr>\n",
       "      <th>2016-01-17</th>\n",
       "      <td>357.0</td>\n",
       "      <td>363.75</td>\n",
       "      <td>349.5</td>\n",
       "      <td>363.25</td>\n",
       "      <td>962380</td>\n",
       "    </tr>\n",
       "    <tr>\n",
       "      <th>2016-01-24</th>\n",
       "      <td>364.0</td>\n",
       "      <td>372.00</td>\n",
       "      <td>364.0</td>\n",
       "      <td>370.00</td>\n",
       "      <td>771628</td>\n",
       "    </tr>\n",
       "    <tr>\n",
       "      <th>2016-01-31</th>\n",
       "      <td>370.0</td>\n",
       "      <td>372.50</td>\n",
       "      <td>365.0</td>\n",
       "      <td>371.50</td>\n",
       "      <td>830375</td>\n",
       "    </tr>\n",
       "    <tr>\n",
       "      <th>2016-02-07</th>\n",
       "      <td>371.0</td>\n",
       "      <td>373.75</td>\n",
       "      <td>365.5</td>\n",
       "      <td>365.50</td>\n",
       "      <td>844476</td>\n",
       "    </tr>\n",
       "  </tbody>\n",
       "</table>\n",
       "</div>"
      ]
     },
     "execution_count": 20,
     "metadata": {},
     "output_type": "execute_result"
    }
   ],
   "source": [
    "weekly_data.head()"
   ]
  },
  {
   "cell_type": "code",
   "execution_count": 13,
   "metadata": {},
   "outputs": [],
   "source": [
    "import seaborn as sns"
   ]
  },
  {
   "cell_type": "code",
   "execution_count": 16,
   "metadata": {
    "collapsed": false
   },
   "outputs": [
    {
     "data": {
      "text/plain": [
       "<matplotlib.axes._subplots.AxesSubplot at 0x123993da0>"
      ]
     },
     "execution_count": 16,
     "metadata": {},
     "output_type": "execute_result"
    },
    {
     "data": {
      "image/png": "[encoded data removed]",
      "text/plain": [
       "<Figure size 432x288 with 1 Axes>"
      ]
     },
     "metadata": {},
     "output_type": "display_data"
    }
   ],
   "source": [
    "sns.lineplot(data = daily_data[\"Close\"])"
   ]
  },
  {
   "cell_type": "code",
   "execution_count": 15,
   "metadata": {},
   "outputs": [
    {
     "data": {
      "text/plain": [
       "DatetimeIndex(['2016-01-04', '2016-01-05', '2016-01-06', '2016-01-07',\n               '2016-01-08', '2016-01-11', '2016-01-12', '2016-01-13',\n               '2016-01-14', '2016-01-15',\n               ...\n               '2019-01-11', '2019-01-14', '2019-01-15', '2019-01-16',\n               '2019-01-17', '2019-01-18', '2019-01-22', '2019-01-23',\n               '2019-01-24', '2019-01-25'],\n              dtype='datetime64[ns]', length=772, freq=None)"
      ]
     },
     "execution_count": 15,
     "metadata": {},
     "output_type": "execute_result"
    }
   ],
   "source": [
    "daily_data.index"
   ]
  },
  {
   "cell_type": "code",
   "execution_count": 25,
   "metadata": {},
   "outputs": [
    {
     "data": {
      "text/html": [
       "<div>\n",
       "<style scoped>\n",
       "    .dataframe tbody tr th:only-of-type {\n",
       "        vertical-align: middle;\n",
       "    }\n",
       "\n",
       "    .dataframe tbody tr th {\n",
       "        vertical-align: top;\n",
       "    }\n",
       "\n",
       "    .dataframe thead th {\n",
       "        text-align: right;\n",
       "    }\n",
       "</style>\n",
       "<table border=\"1\" class=\"dataframe\">\n",
       "  <thead>\n",
       "    <tr style=\"text-align: right;\">\n",
       "      <th></th>\n",
       "      <th>Open</th>\n",
       "      <th>High</th>\n",
       "      <th>Low</th>\n",
       "      <th>Close</th>\n",
       "      <th>TotalVolume</th>\n",
       "    </tr>\n",
       "  </thead>\n",
       "  <tbody>\n",
       "    <tr>\n",
       "      <th>2016-03-31</th>\n",
       "      <td>366.75</td>\n",
       "      <td>367.25</td>\n",
       "      <td>347.50</td>\n",
       "      <td>350.50</td>\n",
       "      <td>501024</td>\n",
       "    </tr>\n",
       "    <tr>\n",
       "      <th>2017-06-07</th>\n",
       "      <td>378.25</td>\n",
       "      <td>387.00</td>\n",
       "      <td>378.25</td>\n",
       "      <td>385.00</td>\n",
       "      <td>482660</td>\n",
       "    </tr>\n",
       "    <tr>\n",
       "      <th>2018-02-07</th>\n",
       "      <td>363.75</td>\n",
       "      <td>365.75</td>\n",
       "      <td>362.50</td>\n",
       "      <td>365.00</td>\n",
       "      <td>457490</td>\n",
       "    </tr>\n",
       "    <tr>\n",
       "      <th>2017-11-09</th>\n",
       "      <td>347.50</td>\n",
       "      <td>349.75</td>\n",
       "      <td>340.75</td>\n",
       "      <td>342.00</td>\n",
       "      <td>445053</td>\n",
       "    </tr>\n",
       "    <tr>\n",
       "      <th>2017-06-08</th>\n",
       "      <td>385.00</td>\n",
       "      <td>391.75</td>\n",
       "      <td>384.25</td>\n",
       "      <td>384.25</td>\n",
       "      <td>369166</td>\n",
       "    </tr>\n",
       "    <tr>\n",
       "      <th>2016-04-13</th>\n",
       "      <td>363.00</td>\n",
       "      <td>374.75</td>\n",
       "      <td>363.00</td>\n",
       "      <td>373.75</td>\n",
       "      <td>368844</td>\n",
       "    </tr>\n",
       "    <tr>\n",
       "      <th>2018-03-29</th>\n",
       "      <td>373.75</td>\n",
       "      <td>389.25</td>\n",
       "      <td>373.75</td>\n",
       "      <td>387.75</td>\n",
       "      <td>354804</td>\n",
       "    </tr>\n",
       "    <tr>\n",
       "      <th>2017-02-28</th>\n",
       "      <td>368.75</td>\n",
       "      <td>386.25</td>\n",
       "      <td>368.50</td>\n",
       "      <td>373.00</td>\n",
       "      <td>354124</td>\n",
       "    </tr>\n",
       "    <tr>\n",
       "      <th>2018-04-04</th>\n",
       "      <td>388.00</td>\n",
       "      <td>389.00</td>\n",
       "      <td>372.00</td>\n",
       "      <td>380.50</td>\n",
       "      <td>346763</td>\n",
       "    </tr>\n",
       "    <tr>\n",
       "      <th>2016-04-21</th>\n",
       "      <td>399.00</td>\n",
       "      <td>407.25</td>\n",
       "      <td>388.50</td>\n",
       "      <td>388.75</td>\n",
       "      <td>339711</td>\n",
       "    </tr>\n",
       "  </tbody>\n",
       "</table>\n",
       "</div>"
      ],
      "text/plain": [
       "<div>\n",
       "<style scoped>\n",
       "    .dataframe tbody tr th:only-of-type {\n",
       "        vertical-align: middle;\n",
       "    }\n",
       "\n",
       "    .dataframe tbody tr th {\n",
       "        vertical-align: top;\n",
       "    }\n",
       "\n",
       "    .dataframe thead th {\n",
       "        text-align: right;\n",
       "    }\n",
       "</style>\n",
       "<table border=\"1\" class=\"dataframe\">\n",
       "  <thead>\n",
       "    <tr style=\"text-align: right;\">\n",
       "      <th></th>\n",
       "      <th>Open</th>\n",
       "      <th>High</th>\n",
       "      <th>Low</th>\n",
       "      <th>Close</th>\n",
       "      <th>TotalVolume</th>\n",
       "    </tr>\n",
       "  </thead>\n",
       "  <tbody>\n",
       "    <tr>\n",
       "      <th>2016-03-31</th>\n",
       "      <td>366.75</td>\n",
       "      <td>367.25</td>\n",
       "      <td>347.50</td>\n",
       "      <td>350.50</td>\n",
       "      <td>501024</td>\n",
       "    </tr>\n",
       "    <tr>\n",
       "      <th>2017-06-07</th>\n",
       "      <td>378.25</td>\n",
       "      <td>387.00</td>\n",
       "      <td>378.25</td>\n",
       "      <td>385.00</td>\n",
       "      <td>482660</td>\n",
       "    </tr>\n",
       "    <tr>\n",
       "      <th>2018-02-07</th>\n",
       "      <td>363.75</td>\n",
       "      <td>365.75</td>\n",
       "      <td>362.50</td>\n",
       "      <td>365.00</td>\n",
       "      <td>457490</td>\n",
       "    </tr>\n",
       "    <tr>\n",
       "      <th>2017-11-09</th>\n",
       "      <td>347.50</td>\n",
       "      <td>349.75</td>\n",
       "      <td>340.75</td>\n",
       "      <td>342.00</td>\n",
       "      <td>445053</td>\n",
       "    </tr>\n",
       "    <tr>\n",
       "      <th>2017-06-08</th>\n",
       "      <td>385.00</td>\n",
       "      <td>391.75</td>\n",
       "      <td>384.25</td>\n",
       "      <td>384.25</td>\n",
       "      <td>369166</td>\n",
       "    </tr>\n",
       "    <tr>\n",
       "      <th>2016-04-13</th>\n",
       "      <td>363.00</td>\n",
       "      <td>374.75</td>\n",
       "      <td>363.00</td>\n",
       "      <td>373.75</td>\n",
       "      <td>368844</td>\n",
       "    </tr>\n",
       "    <tr>\n",
       "      <th>2018-03-29</th>\n",
       "      <td>373.75</td>\n",
       "      <td>389.25</td>\n",
       "      <td>373.75</td>\n",
       "      <td>387.75</td>\n",
       "      <td>354804</td>\n",
       "    </tr>\n",
       "    <tr>\n",
       "      <th>2017-02-28</th>\n",
       "      <td>368.75</td>\n",
       "      <td>386.25</td>\n",
       "      <td>368.50</td>\n",
       "      <td>373.00</td>\n",
       "      <td>354124</td>\n",
       "    </tr>\n",
       "    <tr>\n",
       "      <th>2018-04-04</th>\n",
       "      <td>388.00</td>\n",
       "      <td>389.00</td>\n",
       "      <td>372.00</td>\n",
       "      <td>380.50</td>\n",
       "      <td>346763</td>\n",
       "    </tr>\n",
       "    <tr>\n",
       "      <th>2016-04-21</th>\n",
       "      <td>399.00</td>\n",
       "      <td>407.25</td>\n",
       "      <td>388.50</td>\n",
       "      <td>388.75</td>\n",
       "      <td>339711</td>\n",
       "    </tr>\n",
       "  </tbody>\n",
       "</table>\n",
       "</div>"
      ]
     },
     "execution_count": 25,
     "metadata": {},
     "output_type": "execute_result"
    }
   ],
   "source": [
    "daily_data.sort_values(by=['TotalVolume'], ascending=False)[:10]"
   ]
  },
  {
   "cell_type": "code",
   "execution_count": 28,
   "metadata": {},
   "outputs": [
    {
     "data": {
      "text/plain": [
       "2017-03-31    2.185432\n2018-09-28    1.632099\n2018-09-12    1.630404\n2016-03-31    1.581134\n2018-11-26    1.499547\n2018-11-01    1.472707\n2018-03-29    1.450913\n2018-10-05    1.363173\n2017-11-09    1.353906\n2016-09-30    1.295524\nName: TotalVolume, dtype: float64"
      ]
     },
     "execution_count": 28,
     "metadata": {},
     "output_type": "execute_result"
    }
   ],
   "source": [
    "CC.get_stat_val_between_time_interval(daily_data, attribute='TotalVolume', stat_method='P_change').sort_values(ascending=False)[:10]"
   ]
  },
  {
   "cell_type": "code",
   "execution_count": 29,
   "metadata": {},
   "outputs": [
    {
     "data": {
      "text/plain": [
       "2016-07-08    0.042522\n2018-06-29    0.042059\n2016-04-20    0.041612\n2018-03-29    0.038848\n2016-10-13    0.037064\n2018-08-17    0.036936\n2017-08-31    0.036232\n2016-08-17    0.035034\n2016-12-05    0.032421\n2016-07-13    0.031272\nName: Close, dtype: float64"
      ]
     },
     "execution_count": 29,
     "metadata": {},
     "output_type": "execute_result"
    }
   ],
   "source": [
    "CC.get_stat_val_between_time_interval(daily_data, attribute='Close', stat_method='P_change').sort_values(ascending=False)[:10]"
   ]
  },
  {
   "cell_type": "code",
   "execution_count": 67,
   "metadata": {},
   "outputs": [],
   "source": [
    "import pywt\n",
    "\n",
    "def circular_convolve_d(h_t, v_j_1, j):\n",
    "    '''\n",
    "    jth level decomposition\n",
    "    h_t: \\tilde{h} = h / sqrt(2)\n",
    "    v_j_1: v_{j-1}, the (j-1)th scale coefficients\n",
    "    return: w_j (or v_j)\n",
    "    '''\n",
    "    N = len(v_j_1)\n",
    "    L = len(h_t)\n",
    "    w_j = np.zeros(N)\n",
    "    l = np.arange(L)\n",
    "    for t in range(N):\n",
    "        index = np.mod(t - 2 ** (j - 1) * l, N)\n",
    "        v_p = np.array([v_j_1[ind] for ind in index])\n",
    "        w_j[t] = (np.array(h_t) * v_p).sum()\n",
    "    return w_j\n",
    "\n",
    "def circular_convolve_s(h_t, g_t, w_j, v_j, j):\n",
    "    '''\n",
    "    (j-1)th level synthesis from w_j, w_j\n",
    "    see function circular_convolve_d\n",
    "    '''\n",
    "    N = len(v_j)\n",
    "    L = len(h_t)\n",
    "    v_j_1 = np.zeros(N)\n",
    "    l = np.arange(L)\n",
    "    for t in range(N):\n",
    "        index = np.mod(t + 2 ** (j - 1) * l, N)\n",
    "        w_p = np.array([w_j[ind] for ind in index])\n",
    "        v_p = np.array([v_j[ind] for ind in index])\n",
    "        v_j_1[t] = (np.array(h_t) * w_p).sum()\n",
    "        v_j_1[t] = v_j_1[t] + (np.array(g_t) * v_p).sum()\n",
    "    return v_j_1\n",
    "\n",
    "\n",
    "def modwt(x, filters, level):\n",
    "    '''\n",
    "    filters: 'db1', 'db2', 'haar', ...\n",
    "    return: see matlab\n",
    "    '''\n",
    "    # filter\n",
    "    wavelet = pywt.Wavelet(filters)\n",
    "    h = wavelet.dec_hi\n",
    "    g = wavelet.dec_lo\n",
    "    h_t = np.array(h) / np.sqrt(2)\n",
    "    g_t = np.array(g) / np.sqrt(2)\n",
    "    wavecoeff = []\n",
    "    v_j_1 = x\n",
    "    for j in range(level):\n",
    "        print (\"level\", j)\n",
    "        w = circular_convolve_d(h_t, v_j_1, j + 1)\n",
    "        v_j_1 = circular_convolve_d(g_t, v_j_1, j + 1)\n",
    "        wavecoeff.append(w)\n",
    "    wavecoeff.append(v_j_1)\n",
    "    return np.vstack(wavecoeff)"
   ]
  },
  {
   "cell_type": "code",
   "execution_count": 73,
   "metadata": {},
   "outputs": [],
   "source": [
    "s1 = pd.Series(np.log(all_data['Close']))\n",
    "s1 = s1.tolist()"
   ]
  },
  {
   "cell_type": "code",
   "execution_count": 74,
   "metadata": {},
   "outputs": [
    {
     "name": "stdout",
     "output_type": "stream",
     "text": [
      "level 0\n"
     ]
    },
    {
     "name": "stdout",
     "output_type": "stream",
     "text": [
      "level 1\n"
     ]
    },
    {
     "name": "stdout",
     "output_type": "stream",
     "text": [
      "level 2\n"
     ]
    }
   ],
   "source": [
    "ws = modwt(s1, 'sym8', 3)"
   ]
  },
  {
   "cell_type": "code",
   "execution_count": 75,
   "metadata": {},
   "outputs": [
    {
     "data": {
      "text/plain": [
       "array([[ 9.54182535e-04, -1.12516328e-03,  8.97029557e-05, ...,\n        -2.82263025e-05, -4.05320196e-04,  1.27245386e-04],\n       [-3.23768129e-04,  4.41312906e-06,  2.30105333e-04, ...,\n         4.09663388e-04,  1.42816262e-04, -2.66543545e-04],\n       [ 2.36374089e-04,  2.71086334e-04,  2.30866245e-04, ...,\n        -7.27640306e-05,  3.85940968e-05,  1.53412504e-04],\n       [ 5.93758106e+00,  5.93765857e+00,  5.93773654e+00, ...,\n         5.93743477e+00,  5.93746098e+00,  5.93751285e+00]])"
      ]
     },
     "execution_count": 75,
     "metadata": {},
     "output_type": "execute_result"
    }
   ],
   "source": [
    "ws"
   ]
  },
  {
   "cell_type": "code",
   "execution_count": 76,
   "metadata": {},
   "outputs": [
    {
     "data": {
      "text/plain": [
       "814460"
      ]
     },
     "execution_count": 76,
     "metadata": {},
     "output_type": "execute_result"
    }
   ],
   "source": [
    "len(ws[0])"
   ]
  },
  {
   "cell_type": "code",
   "execution_count": 89,
   "metadata": {
    "collapsed": false
   },
   "outputs": [
    {
     "ename": "TypeError",
     "evalue": "cannot insert DatetimeIndex with incompatible label",
     "traceback": [
      "\u001b[0;31m---------------------------------------------------------------------------\u001b[0m",
      "\u001b[0;31mAttributeError\u001b[0m                            Traceback (most recent call last)",
      "\u001b[0;32m/Library/Frameworks/Python.framework/Versions/3.6/lib/python3.6/site-packages/pandas/core/indexes/datetimes.py\u001b[0m in \u001b[0;36minsert\u001b[0;34m(self, loc, item)\u001b[0m\n\u001b[1;32m   2181\u001b[0m         \u001b[0;32mtry\u001b[0m\u001b[0;34m:\u001b[0m\u001b[0;34m\u001b[0m\u001b[0m\n\u001b[0;32m-> 2182\u001b[0;31m             new_dates = np.concatenate((self[:loc].asi8, [item.view(np.int64)],\n\u001b[0m\u001b[1;32m   2183\u001b[0m                                         self[loc:].asi8))\n",
      "\u001b[0;31mAttributeError\u001b[0m: 'int' object has no attribute 'view'",
      "\nDuring handling of the above exception, another exception occurred:\n",
      "\u001b[0;31mTypeError\u001b[0m                                 Traceback (most recent call last)",
      "\u001b[0;32m<ipython-input-89-fd30a6a22caa>\u001b[0m in \u001b[0;36m<module>\u001b[0;34m()\u001b[0m\n\u001b[1;32m      1\u001b[0m \u001b[0;32mfor\u001b[0m \u001b[0mi\u001b[0m \u001b[0;32min\u001b[0m \u001b[0mrange\u001b[0m\u001b[0;34m(\u001b[0m\u001b[0;36m0\u001b[0m\u001b[0;34m,\u001b[0m\u001b[0mlen\u001b[0m\u001b[0;34m(\u001b[0m\u001b[0mall_data\u001b[0m\u001b[0;34m)\u001b[0m\u001b[0;34m)\u001b[0m\u001b[0;34m:\u001b[0m\u001b[0;34m\u001b[0m\u001b[0m\n\u001b[1;32m      2\u001b[0m     \u001b[0;32mif\u001b[0m \u001b[0mall_data\u001b[0m\u001b[0;34m.\u001b[0m\u001b[0miloc\u001b[0m\u001b[0;34m[\u001b[0m\u001b[0mi\u001b[0m\u001b[0;34m]\u001b[0m\u001b[0;34m[\u001b[0m\u001b[0;34m'Volume'\u001b[0m\u001b[0;34m]\u001b[0m \u001b[0;34m==\u001b[0m \u001b[0;36m0\u001b[0m\u001b[0;34m:\u001b[0m\u001b[0;34m\u001b[0m\u001b[0m\n\u001b[0;32m----> 3\u001b[0;31m         \u001b[0mall_data\u001b[0m\u001b[0;34m.\u001b[0m\u001b[0mloc\u001b[0m\u001b[0;34m[\u001b[0m\u001b[0mi\u001b[0m\u001b[0;34m,\u001b[0m \u001b[0;34m'Open'\u001b[0m\u001b[0;34m]\u001b[0m \u001b[0;34m=\u001b[0m \u001b[0mall_data\u001b[0m\u001b[0;34m.\u001b[0m\u001b[0miloc\u001b[0m\u001b[0;34m[\u001b[0m\u001b[0mi\u001b[0m\u001b[0;34m]\u001b[0m\u001b[0;34m[\u001b[0m\u001b[0;34m'Close'\u001b[0m\u001b[0;34m]\u001b[0m\u001b[0;34m\u001b[0m\u001b[0m\n\u001b[0m\u001b[1;32m      4\u001b[0m     \u001b[0;32mif\u001b[0m \u001b[0mi\u001b[0m \u001b[0;34m==\u001b[0m \u001b[0;36m25\u001b[0m\u001b[0;34m:\u001b[0m\u001b[0;34m\u001b[0m\u001b[0m\n\u001b[1;32m      5\u001b[0m         \u001b[0;32mbreak\u001b[0m\u001b[0;34m\u001b[0m\u001b[0m\n",
      "\u001b[0;32m/Library/Frameworks/Python.framework/Versions/3.6/lib/python3.6/site-packages/pandas/core/indexing.py\u001b[0m in \u001b[0;36m__setitem__\u001b[0;34m(self, key, value)\u001b[0m\n\u001b[1;32m    187\u001b[0m             \u001b[0mkey\u001b[0m \u001b[0;34m=\u001b[0m \u001b[0mcom\u001b[0m\u001b[0;34m.\u001b[0m\u001b[0m_apply_if_callable\u001b[0m\u001b[0;34m(\u001b[0m\u001b[0mkey\u001b[0m\u001b[0;34m,\u001b[0m \u001b[0mself\u001b[0m\u001b[0;34m.\u001b[0m\u001b[0mobj\u001b[0m\u001b[0;34m)\u001b[0m\u001b[0;34m\u001b[0m\u001b[0m\n\u001b[1;32m    188\u001b[0m         \u001b[0mindexer\u001b[0m \u001b[0;34m=\u001b[0m \u001b[0mself\u001b[0m\u001b[0;34m.\u001b[0m\u001b[0m_get_setitem_indexer\u001b[0m\u001b[0;34m(\u001b[0m\u001b[0mkey\u001b[0m\u001b[0;34m)\u001b[0m\u001b[0;34m\u001b[0m\u001b[0m\n\u001b[0;32m--> 189\u001b[0;31m         \u001b[0mself\u001b[0m\u001b[0;34m.\u001b[0m\u001b[0m_setitem_with_indexer\u001b[0m\u001b[0;34m(\u001b[0m\u001b[0mindexer\u001b[0m\u001b[0;34m,\u001b[0m \u001b[0mvalue\u001b[0m\u001b[0;34m)\u001b[0m\u001b[0;34m\u001b[0m\u001b[0m\n\u001b[0m\u001b[1;32m    190\u001b[0m \u001b[0;34m\u001b[0m\u001b[0m\n\u001b[1;32m    191\u001b[0m     \u001b[0;32mdef\u001b[0m \u001b[0m_validate_key\u001b[0m\u001b[0;34m(\u001b[0m\u001b[0mself\u001b[0m\u001b[0;34m,\u001b[0m \u001b[0mkey\u001b[0m\u001b[0;34m,\u001b[0m \u001b[0maxis\u001b[0m\u001b[0;34m)\u001b[0m\u001b[0;34m:\u001b[0m\u001b[0;34m\u001b[0m\u001b[0m\n",
      "\u001b[0;32m/Library/Frameworks/Python.framework/Versions/3.6/lib/python3.6/site-packages/pandas/core/indexing.py\u001b[0m in \u001b[0;36m_setitem_with_indexer\u001b[0;34m(self, indexer, value)\u001b[0m\n\u001b[1;32m    373\u001b[0m                     \u001b[0;31m# so the object is the same\u001b[0m\u001b[0;34m\u001b[0m\u001b[0;34m\u001b[0m\u001b[0m\n\u001b[1;32m    374\u001b[0m                     \u001b[0mindex\u001b[0m \u001b[0;34m=\u001b[0m \u001b[0mself\u001b[0m\u001b[0;34m.\u001b[0m\u001b[0mobj\u001b[0m\u001b[0;34m.\u001b[0m\u001b[0m_get_axis\u001b[0m\u001b[0;34m(\u001b[0m\u001b[0mi\u001b[0m\u001b[0;34m)\u001b[0m\u001b[0;34m\u001b[0m\u001b[0m\n\u001b[0;32m--> 375\u001b[0;31m                     \u001b[0mlabels\u001b[0m \u001b[0;34m=\u001b[0m \u001b[0mindex\u001b[0m\u001b[0;34m.\u001b[0m\u001b[0minsert\u001b[0m\u001b[0;34m(\u001b[0m\u001b[0mlen\u001b[0m\u001b[0;34m(\u001b[0m\u001b[0mindex\u001b[0m\u001b[0;34m)\u001b[0m\u001b[0;34m,\u001b[0m \u001b[0mkey\u001b[0m\u001b[0;34m)\u001b[0m\u001b[0;34m\u001b[0m\u001b[0m\n\u001b[0m\u001b[1;32m    376\u001b[0m                     \u001b[0mself\u001b[0m\u001b[0;34m.\u001b[0m\u001b[0mobj\u001b[0m\u001b[0;34m.\u001b[0m\u001b[0m_data\u001b[0m \u001b[0;34m=\u001b[0m \u001b[0mself\u001b[0m\u001b[0;34m.\u001b[0m\u001b[0mobj\u001b[0m\u001b[0;34m.\u001b[0m\u001b[0mreindex\u001b[0m\u001b[0;34m(\u001b[0m\u001b[0mlabels\u001b[0m\u001b[0;34m,\u001b[0m \u001b[0maxis\u001b[0m\u001b[0;34m=\u001b[0m\u001b[0mi\u001b[0m\u001b[0;34m)\u001b[0m\u001b[0;34m.\u001b[0m\u001b[0m_data\u001b[0m\u001b[0;34m\u001b[0m\u001b[0m\n\u001b[1;32m    377\u001b[0m                     \u001b[0mself\u001b[0m\u001b[0;34m.\u001b[0m\u001b[0mobj\u001b[0m\u001b[0;34m.\u001b[0m\u001b[0m_maybe_update_cacher\u001b[0m\u001b[0;34m(\u001b[0m\u001b[0mclear\u001b[0m\u001b[0;34m=\u001b[0m\u001b[0;32mTrue\u001b[0m\u001b[0;34m)\u001b[0m\u001b[0;34m\u001b[0m\u001b[0m\n",
      "\u001b[0;32m/Library/Frameworks/Python.framework/Versions/3.6/lib/python3.6/site-packages/pandas/core/indexes/datetimes.py\u001b[0m in \u001b[0;36minsert\u001b[0;34m(self, loc, item)\u001b[0m\n\u001b[1;32m   2192\u001b[0m                 \u001b[0;32mreturn\u001b[0m \u001b[0mself\u001b[0m\u001b[0;34m.\u001b[0m\u001b[0mastype\u001b[0m\u001b[0;34m(\u001b[0m\u001b[0mobject\u001b[0m\u001b[0;34m)\u001b[0m\u001b[0;34m.\u001b[0m\u001b[0minsert\u001b[0m\u001b[0;34m(\u001b[0m\u001b[0mloc\u001b[0m\u001b[0;34m,\u001b[0m \u001b[0mitem\u001b[0m\u001b[0;34m)\u001b[0m\u001b[0;34m\u001b[0m\u001b[0m\n\u001b[1;32m   2193\u001b[0m             raise TypeError(\n\u001b[0;32m-> 2194\u001b[0;31m                 \"cannot insert DatetimeIndex with incompatible label\")\n\u001b[0m\u001b[1;32m   2195\u001b[0m \u001b[0;34m\u001b[0m\u001b[0m\n\u001b[1;32m   2196\u001b[0m     \u001b[0;32mdef\u001b[0m \u001b[0mdelete\u001b[0m\u001b[0;34m(\u001b[0m\u001b[0mself\u001b[0m\u001b[0;34m,\u001b[0m \u001b[0mloc\u001b[0m\u001b[0;34m)\u001b[0m\u001b[0;34m:\u001b[0m\u001b[0;34m\u001b[0m\u001b[0m\n",
      "\u001b[0;31mTypeError\u001b[0m: cannot insert DatetimeIndex with incompatible label"
     ],
     "output_type": "error"
    }
   ],
   "source": [
    "for i in range(0,len(all_data)):\n",
    "    if all_data.iloc[i]['Volume'] == 0:\n",
    "        all_data.loc[i, 'Open'] = all_data.iloc[i]['Close']\n",
    "    if i == 25:\n",
    "        break"
   ]
  },
  {
   "cell_type": "code",
   "execution_count": 140,
   "metadata": {},
   "outputs": [],
   "source": [
    "from numpy import linalg as LA\n",
    "def nor(sub_data):\n",
    "    ret = sub_data.apply(LA.norm, axis=0)\n",
    "    return ret.to_frame().T\n",
    "\n",
    "def don(nor1, nor2):\n",
    "    if len(nor1) == 0:\n",
    "        return None\n",
    "    return nor2 - nor1\n",
    "\n",
    "def rbind(nor, don):\n",
    "    return nor.append(don, ignore_index=True)\n",
    "\n",
    "def rbind_list(list):\n",
    "    ret = list[0]\n",
    "    for i in range(1,len(list)):\n",
    "        ret = ret.append(list[i])\n",
    "    return ret\n",
    "\n",
    "def ts_mean(sub_data):\n",
    "    ret = sub_data.apply(np.mean, axis = 0)\n",
    "    return ret.to_frame().T\n",
    "  \n",
    "def ts_std(sub_data):\n",
    "    ret = sub_data.apply(np.std, axis = 0)\n",
    "    return ret.to_frame().T\n",
    "  \n",
    "def ts_max(sub_data):\n",
    "    ret = sub_data.apply(np.max, axis = 0)\n",
    "    return ret.to_frame().T\n",
    "\n",
    "def ts_min(sub_data):\n",
    "    ret = sub_data.apply(np.min, axis = 0)\n",
    "    return ret.to_frame().T\n",
    "\n",
    "def ts_ptp(sub_data):\n",
    "    ret = sub_data.apply(np.ptp, axis = 0)\n",
    "    return ret.to_frame().T\n",
    "\n",
    "def ts_1Q(sub_data):\n",
    "    ret = sub_data.apply(lambda x: np.percentile(x,25), axis = 0)\n",
    "    return ret.to_frame().T\n",
    "  \n",
    "def ts_2Q(sub_data):\n",
    "    ret = sub_data.apply(lambda x: np.percentile(x,50), axis = 0)\n",
    "    return ret.to_frame().T\n",
    "  \n",
    "def ts_3Q(sub_data):\n",
    "    ret = sub_data.apply(lambda x: np.percentile(x, 75), axis = 0)\n",
    "    return ret.to_frame().T\n",
    "\n",
    "def get_statistic_features_helper(sub_data):\n",
    "    ret = rbind_list(\n",
    "        [ts_mean(sub_data), ts_min(sub_data), ts_max(sub_data), ts_1Q(sub_data), \n",
    "         ts_2Q(sub_data), ts_3Q(sub_data), ts_std(sub_data), ts_ptp(sub_data)])\n",
    "    return ret\n",
    "\n",
    "def get_statistic_features(sub_G_list):\n",
    "    combined_data = rbind_list(sub_G_list)\n",
    "    combined_data_nor = combined_data[combined_data.index == 0]\n",
    "    H_nor = get_statistic_features_helper(combined_data_nor)\n",
    "    combined_data_don = combined_data[combined_data.index == 1]\n",
    "    H_don = get_statistic_features_helper(combined_data_don)\n",
    "    return rbind(H_nor, H_don)\n",
    "\n",
    "def generate_G_list(all_data, start_index=0, b=4, step=2):\n",
    "    G_list = []\n",
    "    nor1 = nor(all_data[start_index:start_index+b])\n",
    "    for i in range(start_index+step, len(all_data), step):\n",
    "        nor2 = nor(all_data[i:i+b])\n",
    "        don_temp = don(nor1, nor2)\n",
    "        g_temp = rbind(nor2, don_temp)\n",
    "        G_list.append(g_temp)\n",
    "    return G_list\n",
    "\n",
    "def generate_H_list(G_list, f=2, step=2):\n",
    "    H_list = []\n",
    "    for i in range(0, len(G_list), step):\n",
    "        sub_G_list = G_list[i:i+f]\n",
    "        if len(sub_G_list) < f:\n",
    "            break\n",
    "        h_temp = get_statistic_features(sub_G_list)\n",
    "        H_list.append(h_temp)\n",
    "    return H_list"
   ]
  },
  {
   "cell_type": "code",
   "execution_count": 124,
   "metadata": {},
   "outputs": [],
   "source": [
    "g_list = generate_G_list(all_data[:12])"
   ]
  },
  {
   "cell_type": "code",
   "execution_count": 141,
   "metadata": {},
   "outputs": [],
   "source": [
    "h_list = generate_H_list(g_list)"
   ]
  },
  {
   "cell_type": "code",
   "execution_count": 142,
   "metadata": {},
   "outputs": [
    {
     "name": "stdout",
     "output_type": "stream",
     "text": [
      "          Open        High         Low       Close  TotalVolume       Volume\n0   718.250076  718.375065  717.875022  718.062560  4296.691193   243.697026\n1   718.125033  718.250044  717.750044  718.000087  4192.399313   140.228385\n2   718.375120  718.500087  718.000000  718.125033  4400.983072   347.165667\n3   718.187554  718.312554  717.812533  718.031323  4244.545253   191.962705\n4   718.250076  718.375065  717.875022  718.062560  4296.691193   243.697026\n5   718.312598  718.437576  717.937511  718.093796  4348.837132   295.431346\n6     0.125043    0.125022    0.124978    0.062473   104.291879   103.468641\n7     0.250087    0.250043    0.249956    0.124946   208.583759   206.937281\n8    -0.625130   -0.875152   -0.250011   -0.562734   695.183175 -1114.568412\n9    -0.750174   -1.000174   -0.374989   -0.625206   590.891296 -1218.037053\n10   -0.500087   -0.750130   -0.125033   -0.500261   799.475055 -1011.099771\n11   -0.687652   -0.937663   -0.312500   -0.593970   643.037235 -1166.302732\n12   -0.625130   -0.875152   -0.250011   -0.562734   695.183175 -1114.568412\n13   -0.562609   -0.812641   -0.187522   -0.531497   747.329115 -1062.834092\n14    0.125043    0.125022    0.124978    0.062473   104.291879   103.468641\n15    0.250087    0.250043    0.249956    0.124946   208.583759   206.937281\n          Open        High         Low       Close  TotalVolume       Volume\n0   718.000076  718.187538  717.500000  717.812538  4726.754036   118.268096\n1   717.875033  718.125033  717.500000  717.750044  4640.554924    85.311195\n2   718.125120  718.250044  717.500000  717.875033  4812.953147   151.224998\n3   717.937554  718.156285  717.500000  717.781291  4683.654480   101.789646\n4   718.000076  718.187538  717.500000  717.812538  4726.754036   118.268096\n5   718.062598  718.218791  717.500000  717.843785  4769.853592   134.746547\n6     0.125044    0.062505    0.000000    0.062495    86.199112    32.956901\n7     0.250087    0.125011    0.000000    0.124989   172.398224    65.913803\n8    -0.875130   -1.062679   -0.625033   -0.812755  1125.246018 -1239.997341\n9    -1.000174   -1.125185   -0.625033   -0.875250  1039.046906 -1272.954243\n10   -0.750087   -1.000174   -0.625033   -0.750261  1211.445130 -1207.040440\n11   -0.937652   -1.093932   -0.625033   -0.844003  1082.146462 -1256.475792\n12   -0.875130   -1.062679   -0.625033   -0.812755  1125.246018 -1239.997341\n13   -0.812609   -1.031426   -0.625033   -0.781508  1168.345574 -1223.518891\n14    0.125044    0.062505    0.000000    0.062495    86.199112    32.956901\n15    0.250087    0.125011    0.000000    0.124989   172.398224    65.913803\n"
     ]
    }
   ],
   "source": [
    "for item in h_list:\n",
    "    print(item)"
   ]
  },
  {
   "cell_type": "code",
   "execution_count": null,
   "metadata": {},
   "outputs": [],
   "source": []
  }
 ],
 "metadata": {
  "kernelspec": {
   "display_name": "Python 3",
   "language": "python",
   "name": "python3"
  },
  "language_info": {
   "codemirror_mode": {
    "name": "ipython",
    "version": 3
   },
   "file_extension": ".py",
   "mimetype": "text/x-python",
   "name": "python",
   "nbconvert_exporter": "python",
   "pygments_lexer": "ipython3",
   "version": "3.7.0"
  }
 },
 "nbformat": 4,
 "nbformat_minor": 1
}
