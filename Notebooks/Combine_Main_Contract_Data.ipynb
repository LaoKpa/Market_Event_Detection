{
 "cells": [
  {
   "cell_type": "code",
   "execution_count": 1,
   "metadata": {},
   "outputs": [],
   "source": [
    "import numpy as np\n",
    "import pandas as pd\n",
    "from datetime import datetime, timedelta"
   ]
  },
  {
   "cell_type": "markdown",
   "metadata": {},
   "source": [
    "### Combine the main contracts\n",
    "\n",
    "1. front.csv has the daily main contract code\n",
    "2. Read the main contract data day by day:\n",
    "    1. extract last day and today's data,\n",
    "    2. slice the data from last day's 7:00 p.m. to today's 1:20 p.m.\n",
    "    3. compute the minute trading volume to \"Volume\"\n",
    "3. Save the combined data to \"../data/combined_data.csv\""
   ]
  },
  {
   "cell_type": "code",
   "execution_count": 2,
   "metadata": {
    "code_folding": []
   },
   "outputs": [],
   "source": [
    "def get_one_contract_data_by_date(date_str, contract_path):\n",
    "    \"\"\"Get the contract minute data by the date\n",
    "    Trading hours:\n",
    "        Sunday – Friday, 7:00 p.m. – 7:45 a.m. CT and \n",
    "        Monday – Friday, 8:30 a.m. – 1:20 p.m. CT\n",
    "    Define the last day's night-time and today's day-time as today's trading hours\n",
    "    \n",
    "    Args:\n",
    "        date_str: str, the date we want to extract the main contract data, e.g. \"2016-01-04\"\n",
    "        contract_path: str, the main contract path, e.g. \"../data/ZC/ZCH16.csv\"\n",
    "        \n",
    "    Returns:\n",
    "        pandas.DataFrame\n",
    "    \n",
    "    \"\"\"\n",
    "    year, month, day = map(int, date_str.split('-'))\n",
    "    last_date_str = (datetime(year, month, day) - timedelta(days=1)).strftime(\"%Y-%m-%d\")\n",
    "    \n",
    "    all_data = pd.read_csv(contract_path, header=0, index_col=0, parse_dates=[0])\n",
    "    all_data['Volume'] = all_data.TotalVolume.diff()\n",
    "    \n",
    "    last_day_data = all_data.loc[last_date_str].between_time(\"19:00\", \"23:59\")\n",
    "    today_data = all_data.loc[date_str].between_time(\"0:00\", \"13:20\")\n",
    "    \n",
    "    data = last_day_data.append(today_data, ignore_index=False)\n",
    "    data.iloc[0, 5] = data.iloc[0, 4] #The first minute's trading volume \n",
    "    return data"
   ]
  },
  {
   "cell_type": "code",
   "execution_count": 3,
   "metadata": {
    "code_folding": []
   },
   "outputs": [],
   "source": [
    "def get_all_main_contract_data(main_contracts_path = \"../data/ZC/front.csv\", contracts_root_path = \"../data/ZC/\"):\n",
    "    \"\"\"Combine the daily main contract data \n",
    "    Args:\n",
    "        main_contracts_path: str, the path that have the daily main contract code\n",
    "        contracts_root_path: str, the root path that have all the contract data\n",
    "        \n",
    "    Returns:\n",
    "        data, pd.DataFrame,columns=[\"Open\", \"High\", \"Low\", \"Close\", \"TotalVolume\", \"Volume\", \"Change\"], \n",
    "                            where \"Change\" == 1 indicate that the main contract changed that day\n",
    "    \n",
    "    \"\"\"\n",
    "    func_contract_to_path = lambda x: contract_root_path + \"ZC\" + x + \".csv\"\n",
    "    \n",
    "    main_contracts = pd.read_csv(main_contract_path, header=None, names=['date_str', 'main_contract'])\n",
    "    main_contracts['Change'] = main_contracts.main_contract.apply(lambda x: hash(x)).rolling(2).apply(lambda x: 1 if x[1] != x[0] else 0)\n",
    "    \n",
    "    data = pd.DataFrame(columns=[\"Open\", \"High\", \"Low\", \"Close\", \"TotalVolume\", \"Volume\", \"Change\"])\n",
    "    for idx in range(1, len(main_contracts)):\n",
    "        contract_code = main_contracts.loc[idx, 'main_contract']\n",
    "        contract_path = func_contract_to_path(contract_code)\n",
    "        \n",
    "        date_str = main_contracts.loc[idx, 'date_str']\n",
    "        change_or_not = main_contracts.loc[idx, 'Change']\n",
    "        \n",
    "        today_data = get_one_contract_data_by_date(date_str, contract_path)\n",
    "        today_data['Change'] = change_or_not\n",
    "        \n",
    "        data = data.append(today_data, ignore_index=False)\n",
    "        \n",
    "    return data"
   ]
  },
  {
   "cell_type": "markdown",
   "metadata": {},
   "source": [
    "### Test the function"
   ]
  },
  {
   "cell_type": "code",
   "execution_count": 5,
   "metadata": {},
   "outputs": [
    {
     "name": "stderr",
     "output_type": "stream",
     "text": [
      "C:\\Users\\renhao\\Anaconda3\\lib\\site-packages\\ipykernel_launcher.py:7: FutureWarning: Currently, 'apply' passes the values as ndarrays to the applied function. In the future, this will change to passing it as Series objects. You need to specify 'raw=True' to keep the current behaviour, and you can pass 'raw=False' to silence this warning\n",
      "  import sys\n"
     ]
    },
    {
     "data": {
      "text/html": [
       "<div>\n",
       "<style scoped>\n",
       "    .dataframe tbody tr th:only-of-type {\n",
       "        vertical-align: middle;\n",
       "    }\n",
       "\n",
       "    .dataframe tbody tr th {\n",
       "        vertical-align: top;\n",
       "    }\n",
       "\n",
       "    .dataframe thead th {\n",
       "        text-align: right;\n",
       "    }\n",
       "</style>\n",
       "<table border=\"1\" class=\"dataframe\">\n",
       "  <thead>\n",
       "    <tr style=\"text-align: right;\">\n",
       "      <th></th>\n",
       "      <th>date_str</th>\n",
       "      <th>main_contract</th>\n",
       "      <th>Change</th>\n",
       "    </tr>\n",
       "  </thead>\n",
       "  <tbody>\n",
       "    <tr>\n",
       "      <th>0</th>\n",
       "      <td>2016-01-04</td>\n",
       "      <td>H16</td>\n",
       "      <td>NaN</td>\n",
       "    </tr>\n",
       "    <tr>\n",
       "      <th>1</th>\n",
       "      <td>2016-01-05</td>\n",
       "      <td>H16</td>\n",
       "      <td>0.0</td>\n",
       "    </tr>\n",
       "    <tr>\n",
       "      <th>2</th>\n",
       "      <td>2016-01-06</td>\n",
       "      <td>H16</td>\n",
       "      <td>0.0</td>\n",
       "    </tr>\n",
       "    <tr>\n",
       "      <th>3</th>\n",
       "      <td>2016-01-07</td>\n",
       "      <td>H16</td>\n",
       "      <td>0.0</td>\n",
       "    </tr>\n",
       "    <tr>\n",
       "      <th>4</th>\n",
       "      <td>2016-01-08</td>\n",
       "      <td>H16</td>\n",
       "      <td>0.0</td>\n",
       "    </tr>\n",
       "  </tbody>\n",
       "</table>\n",
       "</div>"
      ],
      "text/plain": [
       "     date_str main_contract  Change\n",
       "0  2016-01-04           H16     NaN\n",
       "1  2016-01-05           H16     0.0\n",
       "2  2016-01-06           H16     0.0\n",
       "3  2016-01-07           H16     0.0\n",
       "4  2016-01-08           H16     0.0"
      ]
     },
     "execution_count": 5,
     "metadata": {},
     "output_type": "execute_result"
    }
   ],
   "source": [
    "pd.set_option('display.max_rows', 5000)\n",
    "\n",
    "main_contract_path = \"../data/ZC/front.csv\"\n",
    "contract_root_path = \"../data/ZC/\"\n",
    "\n",
    "main_contracts = pd.read_csv(main_contract_path, header=None, names=['date_str', 'main_contract'])\n",
    "main_contracts['Change'] = main_contracts.main_contract.apply(lambda x: hash(x)).rolling(2).apply(lambda x: 1 if x[1] != x[0] else 0)\n",
    "\n",
    "main_contracts.head()"
   ]
  },
  {
   "cell_type": "markdown",
   "metadata": {},
   "source": [
    "### test get_one_contract_data_by_date()"
   ]
  },
  {
   "cell_type": "code",
   "execution_count": 6,
   "metadata": {},
   "outputs": [
    {
     "data": {
      "text/html": [
       "<div>\n",
       "<style scoped>\n",
       "    .dataframe tbody tr th:only-of-type {\n",
       "        vertical-align: middle;\n",
       "    }\n",
       "\n",
       "    .dataframe tbody tr th {\n",
       "        vertical-align: top;\n",
       "    }\n",
       "\n",
       "    .dataframe thead th {\n",
       "        text-align: right;\n",
       "    }\n",
       "</style>\n",
       "<table border=\"1\" class=\"dataframe\">\n",
       "  <thead>\n",
       "    <tr style=\"text-align: right;\">\n",
       "      <th></th>\n",
       "      <th>Open</th>\n",
       "      <th>High</th>\n",
       "      <th>Low</th>\n",
       "      <th>Close</th>\n",
       "      <th>TotalVolume</th>\n",
       "      <th>Volume</th>\n",
       "    </tr>\n",
       "    <tr>\n",
       "      <th>Time</th>\n",
       "      <th></th>\n",
       "      <th></th>\n",
       "      <th></th>\n",
       "      <th></th>\n",
       "      <th></th>\n",
       "      <th></th>\n",
       "    </tr>\n",
       "  </thead>\n",
       "  <tbody>\n",
       "    <tr>\n",
       "      <th>2016-01-04 19:01:00</th>\n",
       "      <td>352.75</td>\n",
       "      <td>353.25</td>\n",
       "      <td>352.50</td>\n",
       "      <td>353.25</td>\n",
       "      <td>4243</td>\n",
       "      <td>4243.0</td>\n",
       "    </tr>\n",
       "    <tr>\n",
       "      <th>2016-01-04 19:02:00</th>\n",
       "      <td>353.00</td>\n",
       "      <td>353.25</td>\n",
       "      <td>353.00</td>\n",
       "      <td>353.00</td>\n",
       "      <td>4259</td>\n",
       "      <td>16.0</td>\n",
       "    </tr>\n",
       "    <tr>\n",
       "      <th>2016-01-04 19:03:00</th>\n",
       "      <td>353.00</td>\n",
       "      <td>353.25</td>\n",
       "      <td>352.75</td>\n",
       "      <td>352.75</td>\n",
       "      <td>4404</td>\n",
       "      <td>145.0</td>\n",
       "    </tr>\n",
       "    <tr>\n",
       "      <th>2016-01-04 19:04:00</th>\n",
       "      <td>353.00</td>\n",
       "      <td>353.00</td>\n",
       "      <td>353.00</td>\n",
       "      <td>353.00</td>\n",
       "      <td>4467</td>\n",
       "      <td>63.0</td>\n",
       "    </tr>\n",
       "    <tr>\n",
       "      <th>2016-01-04 19:05:00</th>\n",
       "      <td>353.00</td>\n",
       "      <td>353.25</td>\n",
       "      <td>353.00</td>\n",
       "      <td>353.25</td>\n",
       "      <td>4518</td>\n",
       "      <td>51.0</td>\n",
       "    </tr>\n",
       "  </tbody>\n",
       "</table>\n",
       "</div>"
      ],
      "text/plain": [
       "                       Open    High     Low   Close  TotalVolume  Volume\n",
       "Time                                                                    \n",
       "2016-01-04 19:01:00  352.75  353.25  352.50  353.25         4243  4243.0\n",
       "2016-01-04 19:02:00  353.00  353.25  353.00  353.00         4259    16.0\n",
       "2016-01-04 19:03:00  353.00  353.25  352.75  352.75         4404   145.0\n",
       "2016-01-04 19:04:00  353.00  353.00  353.00  353.00         4467    63.0\n",
       "2016-01-04 19:05:00  353.00  353.25  353.00  353.25         4518    51.0"
      ]
     },
     "execution_count": 6,
     "metadata": {},
     "output_type": "execute_result"
    }
   ],
   "source": [
    "# test get_one_contract_data_by_date()\n",
    "func_main_to_path = lambda x: contract_root_path + \"ZC\" + x + \".csv\" \n",
    "contract_path = func_main_to_path( main_contracts.loc[1, 'main_contract'])\n",
    "\n",
    "test_data = get_one_contract_data_by_date(main_contracts.loc[1, 'date_str'], contract_path)\n",
    "test_data.head()\n",
    "# test_data"
   ]
  },
  {
   "cell_type": "code",
   "execution_count": 14,
   "metadata": {
    "scrolled": true
   },
   "outputs": [
    {
     "name": "stderr",
     "output_type": "stream",
     "text": [
      "C:\\Users\\renhao\\Anaconda3\\lib\\site-packages\\ipykernel_launcher.py:8: FutureWarning: Currently, 'apply' passes the values as ndarrays to the applied function. In the future, this will change to passing it as Series objects. You need to specify 'raw=True' to keep the current behaviour, and you can pass 'raw=False' to silence this warning\n",
      "  \n"
     ]
    },
    {
     "name": "stdout",
     "output_type": "stream",
     "text": [
      "Wall time: 5min 51s\n"
     ]
    }
   ],
   "source": [
    "%time all_data = get_all_main_contract_data()"
   ]
  },
  {
   "cell_type": "code",
   "execution_count": 13,
   "metadata": {},
   "outputs": [
    {
     "data": {
      "text/plain": [
       "11.547193436960276"
      ]
     },
     "execution_count": 13,
     "metadata": {},
     "output_type": "execute_result"
    }
   ],
   "source": [
    "days = len(main_contracts)\n",
    "all_data.shape[0] / days / 60"
   ]
  },
  {
   "cell_type": "code",
   "execution_count": 15,
   "metadata": {},
   "outputs": [],
   "source": [
    "# Save the data to csv\n",
    "all_data.to_csv(\"../data/combined_data.csv\")"
   ]
  }
 ],
 "metadata": {
  "kernelspec": {
   "display_name": "Python 3",
   "language": "python",
   "name": "python3"
  },
  "language_info": {
   "codemirror_mode": {
    "name": "ipython",
    "version": 3
   },
   "file_extension": ".py",
   "mimetype": "text/x-python",
   "name": "python",
   "nbconvert_exporter": "python",
   "pygments_lexer": "ipython3",
   "version": "3.7.0"
  }
 },
 "nbformat": 4,
 "nbformat_minor": 2
}
